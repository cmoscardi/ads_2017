{
 "cells": [
  {
   "cell_type": "markdown",
   "metadata": {},
   "source": [
    "# Overview\n",
    "\n",
    "This is the script for Applied Data Science class project. The team performed in-depth analysis and comparison of bus speed between local and express buses. This analysis focuses on M15 and M15SBS that runs on East Manhattan.\n",
    "\n",
    "It includes the following: \n",
    "- Load Data\n",
    "- Data Processing\n",
    "- Bus Speed Calculation\n",
    "- Analysis\n",
    "- Statistical Testing"
   ]
  },
  {
   "cell_type": "code",
   "execution_count": 1,
   "metadata": {},
   "outputs": [
    {
     "name": "stderr",
     "output_type": "stream",
     "text": [
      "/opt/rh/anaconda/root/envs/PUI2016_Python3/lib/python3.5/site-packages/IPython/html.py:14: ShimWarning: The `IPython.html` package has been deprecated. You should import from `notebook` instead. `IPython.html.widgets` has moved to `ipywidgets`.\n",
      "  \"`IPython.html.widgets` has moved to `ipywidgets`.\", ShimWarning)\n"
     ]
    }
   ],
   "source": [
    "%matplotlib inline\n",
    "import matplotlib.pylab as plt\n",
    "import seaborn as sns\n",
    "#import geopandas as gpd\n",
    "import pandas as pd\n",
    "import numpy as np\n",
    "from datetime import timedelta, datetime\n",
    "\n",
    "#from fiona.crs import from_epsg\n",
    "import shapely\n",
    "from shapely.geometry import *\n",
    "\n",
    "\n",
    "from geopy.distance import vincenty"
   ]
  },
  {
   "cell_type": "markdown",
   "metadata": {},
   "source": [
    "---\n",
    "\n",
    "# Load Data\n",
    "\n",
    "- Remove Redundent Columns\n",
    "- Specify DateTime Columns\n",
    "- Convert time from UTC to EDT"
   ]
  },
  {
   "cell_type": "code",
   "execution_count": 63,
   "metadata": {},
   "outputs": [],
   "source": [
    "def read_data(url):\n",
    "    '''\n",
    "    This function reads the specified data from URL, drop unwanted columns, and convert UTC to EST\n",
    "    Input: url to the dataset\n",
    "    Output: Pandas Dataframe of bus trip data\n",
    "    \n",
    "    '''\n",
    "    try:\n",
    "        df = pd.read_csv(url, infer_datetime_format = True)\n",
    "        df = df.drop([\"Unnamed: 0\", \"Unnamed: 0.1\"], axis = 1)\n",
    "        df['timestamp_utc'] = pd.to_datetime(df['timestamp'])\n",
    "        df['timestamp_est'] = df['timestamp_utc'] - timedelta(hours=5)\n",
    "    except Exception as e:\n",
    "        print(e)\n",
    "        pass\n",
    "\n",
    "    return df\n",
    "\n",
    "\n",
    "# Run the Data Load Scritp\n",
    "url_m15 = \"https://raw.githubusercontent.com/cmoscardi/ads_2017/master/data/m15_final.csv\"\n",
    "url_m15sbs = \"./data/m15_sbs_final.csv\"\n",
    "\n",
    "m15_df, m15sbs_df = read_data(url_m15), read_data(url_m15sbs)\n"
   ]
  },
  {
   "cell_type": "code",
   "execution_count": 57,
   "metadata": {
    "scrolled": true
   },
   "outputs": [
    {
     "data": {
      "text/html": [
       "<div>\n",
       "<table border=\"1\" class=\"dataframe\">\n",
       "  <thead>\n",
       "    <tr style=\"text-align: right;\">\n",
       "      <th></th>\n",
       "      <th>timestamp</th>\n",
       "      <th>vehicle_id</th>\n",
       "      <th>latitude</th>\n",
       "      <th>longitude</th>\n",
       "      <th>bearing</th>\n",
       "      <th>progress</th>\n",
       "      <th>service_date</th>\n",
       "      <th>trip_id</th>\n",
       "      <th>block_assigned</th>\n",
       "      <th>next_stop_id</th>\n",
       "      <th>dist_along_route</th>\n",
       "      <th>dist_from_stop</th>\n",
       "      <th>Day</th>\n",
       "      <th>Hour</th>\n",
       "      <th>DOW</th>\n",
       "      <th>DOW_Label</th>\n",
       "      <th>timestamp_utc</th>\n",
       "      <th>timestamp_est</th>\n",
       "    </tr>\n",
       "  </thead>\n",
       "  <tbody>\n",
       "    <tr>\n",
       "      <th>0</th>\n",
       "      <td>2017-05-01 00:00:00</td>\n",
       "      <td>5254</td>\n",
       "      <td>40.731723</td>\n",
       "      <td>-73.985397</td>\n",
       "      <td>233.71</td>\n",
       "      <td>0</td>\n",
       "      <td>20170430</td>\n",
       "      <td>OH_B7-Sunday-113300_M15_36</td>\n",
       "      <td>1</td>\n",
       "      <td>404105</td>\n",
       "      <td>9289.01</td>\n",
       "      <td>121.04</td>\n",
       "      <td>1</td>\n",
       "      <td>0</td>\n",
       "      <td>0</td>\n",
       "      <td>Mon</td>\n",
       "      <td>2017-05-01 00:00:00</td>\n",
       "      <td>2017-04-30 19:00:00</td>\n",
       "    </tr>\n",
       "    <tr>\n",
       "      <th>1</th>\n",
       "      <td>2017-05-01 00:00:01</td>\n",
       "      <td>5585</td>\n",
       "      <td>40.753502</td>\n",
       "      <td>-73.966428</td>\n",
       "      <td>54.36</td>\n",
       "      <td>0</td>\n",
       "      <td>20170430</td>\n",
       "      <td>OH_B7-Sunday-115300_M15_28</td>\n",
       "      <td>1</td>\n",
       "      <td>401701</td>\n",
       "      <td>7417.29</td>\n",
       "      <td>13.53</td>\n",
       "      <td>1</td>\n",
       "      <td>0</td>\n",
       "      <td>0</td>\n",
       "      <td>Mon</td>\n",
       "      <td>2017-05-01 00:00:01</td>\n",
       "      <td>2017-04-30 19:00:01</td>\n",
       "    </tr>\n",
       "    <tr>\n",
       "      <th>2</th>\n",
       "      <td>2017-05-01 00:00:03</td>\n",
       "      <td>5549</td>\n",
       "      <td>40.777583</td>\n",
       "      <td>-73.948857</td>\n",
       "      <td>53.97</td>\n",
       "      <td>0</td>\n",
       "      <td>20170430</td>\n",
       "      <td>OH_B7-Sunday-113300_M15_49</td>\n",
       "      <td>1</td>\n",
       "      <td>401716</td>\n",
       "      <td>10650.91</td>\n",
       "      <td>187.72</td>\n",
       "      <td>1</td>\n",
       "      <td>0</td>\n",
       "      <td>0</td>\n",
       "      <td>Mon</td>\n",
       "      <td>2017-05-01 00:00:03</td>\n",
       "      <td>2017-04-30 19:00:03</td>\n",
       "    </tr>\n",
       "    <tr>\n",
       "      <th>3</th>\n",
       "      <td>2017-05-01 00:00:03</td>\n",
       "      <td>5959</td>\n",
       "      <td>40.705924</td>\n",
       "      <td>-74.006331</td>\n",
       "      <td>34.83</td>\n",
       "      <td>0</td>\n",
       "      <td>20170430</td>\n",
       "      <td>OH_B7-Sunday-119300_M15_34</td>\n",
       "      <td>1</td>\n",
       "      <td>401667</td>\n",
       "      <td>867.48</td>\n",
       "      <td>67.73</td>\n",
       "      <td>1</td>\n",
       "      <td>0</td>\n",
       "      <td>0</td>\n",
       "      <td>Mon</td>\n",
       "      <td>2017-05-01 00:00:03</td>\n",
       "      <td>2017-04-30 19:00:03</td>\n",
       "    </tr>\n",
       "    <tr>\n",
       "      <th>4</th>\n",
       "      <td>2017-05-01 00:00:10</td>\n",
       "      <td>5544</td>\n",
       "      <td>40.789946</td>\n",
       "      <td>-73.939831</td>\n",
       "      <td>53.84</td>\n",
       "      <td>0</td>\n",
       "      <td>20170430</td>\n",
       "      <td>OH_B7-Sunday-113400_M15_23</td>\n",
       "      <td>1</td>\n",
       "      <td>401724</td>\n",
       "      <td>10146.39</td>\n",
       "      <td>224.11</td>\n",
       "      <td>1</td>\n",
       "      <td>0</td>\n",
       "      <td>0</td>\n",
       "      <td>Mon</td>\n",
       "      <td>2017-05-01 00:00:10</td>\n",
       "      <td>2017-04-30 19:00:10</td>\n",
       "    </tr>\n",
       "  </tbody>\n",
       "</table>\n",
       "</div>"
      ],
      "text/plain": [
       "             timestamp  vehicle_id   latitude  longitude  bearing  progress  \\\n",
       "0  2017-05-01 00:00:00        5254  40.731723 -73.985397   233.71         0   \n",
       "1  2017-05-01 00:00:01        5585  40.753502 -73.966428    54.36         0   \n",
       "2  2017-05-01 00:00:03        5549  40.777583 -73.948857    53.97         0   \n",
       "3  2017-05-01 00:00:03        5959  40.705924 -74.006331    34.83         0   \n",
       "4  2017-05-01 00:00:10        5544  40.789946 -73.939831    53.84         0   \n",
       "\n",
       "   service_date                     trip_id  block_assigned  next_stop_id  \\\n",
       "0      20170430  OH_B7-Sunday-113300_M15_36               1        404105   \n",
       "1      20170430  OH_B7-Sunday-115300_M15_28               1        401701   \n",
       "2      20170430  OH_B7-Sunday-113300_M15_49               1        401716   \n",
       "3      20170430  OH_B7-Sunday-119300_M15_34               1        401667   \n",
       "4      20170430  OH_B7-Sunday-113400_M15_23               1        401724   \n",
       "\n",
       "   dist_along_route  dist_from_stop  Day  Hour  DOW DOW_Label  \\\n",
       "0           9289.01          121.04    1     0    0       Mon   \n",
       "1           7417.29           13.53    1     0    0       Mon   \n",
       "2          10650.91          187.72    1     0    0       Mon   \n",
       "3            867.48           67.73    1     0    0       Mon   \n",
       "4          10146.39          224.11    1     0    0       Mon   \n",
       "\n",
       "        timestamp_utc       timestamp_est  \n",
       "0 2017-05-01 00:00:00 2017-04-30 19:00:00  \n",
       "1 2017-05-01 00:00:01 2017-04-30 19:00:01  \n",
       "2 2017-05-01 00:00:03 2017-04-30 19:00:03  \n",
       "3 2017-05-01 00:00:03 2017-04-30 19:00:03  \n",
       "4 2017-05-01 00:00:10 2017-04-30 19:00:10  "
      ]
     },
     "execution_count": 57,
     "metadata": {},
     "output_type": "execute_result"
    }
   ],
   "source": [
    "m15_df.head()"
   ]
  },
  {
   "cell_type": "code",
   "execution_count": 58,
   "metadata": {
    "scrolled": false
   },
   "outputs": [
    {
     "data": {
      "text/plain": [
       "(645808, 18)"
      ]
     },
     "execution_count": 58,
     "metadata": {},
     "output_type": "execute_result"
    }
   ],
   "source": [
    "m15_df.shape"
   ]
  },
  {
   "cell_type": "code",
   "execution_count": 59,
   "metadata": {},
   "outputs": [
    {
     "data": {
      "text/plain": [
       "timestamp                   object\n",
       "vehicle_id                   int64\n",
       "latitude                   float64\n",
       "longitude                  float64\n",
       "bearing                    float64\n",
       "progress                     int64\n",
       "service_date                 int64\n",
       "trip_id                     object\n",
       "block_assigned               int64\n",
       "next_stop_id                 int64\n",
       "dist_along_route           float64\n",
       "dist_from_stop             float64\n",
       "Day                          int64\n",
       "Hour                         int64\n",
       "DOW                          int64\n",
       "DOW_Label                   object\n",
       "timestamp_utc       datetime64[ns]\n",
       "timestamp_est       datetime64[ns]\n",
       "dtype: object"
      ]
     },
     "execution_count": 59,
     "metadata": {},
     "output_type": "execute_result"
    }
   ],
   "source": [
    "m15_df.dtypes"
   ]
  },
  {
   "cell_type": "code",
   "execution_count": 60,
   "metadata": {
    "scrolled": true
   },
   "outputs": [
    {
     "data": {
      "text/html": [
       "<div>\n",
       "<table border=\"1\" class=\"dataframe\">\n",
       "  <thead>\n",
       "    <tr style=\"text-align: right;\">\n",
       "      <th></th>\n",
       "      <th>timestamp</th>\n",
       "      <th>vehicle_id</th>\n",
       "      <th>latitude</th>\n",
       "      <th>longitude</th>\n",
       "      <th>bearing</th>\n",
       "      <th>progress</th>\n",
       "      <th>service_date</th>\n",
       "      <th>trip_id</th>\n",
       "      <th>block_assigned</th>\n",
       "      <th>next_stop_id</th>\n",
       "      <th>dist_along_route</th>\n",
       "      <th>dist_from_stop</th>\n",
       "      <th>Day</th>\n",
       "      <th>Hour</th>\n",
       "      <th>DOW</th>\n",
       "      <th>DOW_Label</th>\n",
       "      <th>timestamp_utc</th>\n",
       "      <th>timestamp_est</th>\n",
       "    </tr>\n",
       "  </thead>\n",
       "  <tbody>\n",
       "    <tr>\n",
       "      <th>0</th>\n",
       "      <td>2017-05-01 00:00:01</td>\n",
       "      <td>1260</td>\n",
       "      <td>40.778163</td>\n",
       "      <td>-73.951532</td>\n",
       "      <td>233.87</td>\n",
       "      <td>0</td>\n",
       "      <td>20170430</td>\n",
       "      <td>OF_B7-Sunday-119100_SBS15_446</td>\n",
       "      <td>1</td>\n",
       "      <td>401756</td>\n",
       "      <td>3935.60</td>\n",
       "      <td>668.81</td>\n",
       "      <td>1</td>\n",
       "      <td>0</td>\n",
       "      <td>0</td>\n",
       "      <td>Mon</td>\n",
       "      <td>2017-05-01 00:00:01</td>\n",
       "      <td>2017-04-30 19:00:01</td>\n",
       "    </tr>\n",
       "    <tr>\n",
       "      <th>1</th>\n",
       "      <td>2017-05-01 00:00:02</td>\n",
       "      <td>1263</td>\n",
       "      <td>40.782688</td>\n",
       "      <td>-73.945127</td>\n",
       "      <td>54.26</td>\n",
       "      <td>0</td>\n",
       "      <td>20170430</td>\n",
       "      <td>OF_B7-Sunday-114900_SBS15_449</td>\n",
       "      <td>1</td>\n",
       "      <td>903102</td>\n",
       "      <td>11361.77</td>\n",
       "      <td>258.57</td>\n",
       "      <td>1</td>\n",
       "      <td>0</td>\n",
       "      <td>0</td>\n",
       "      <td>Mon</td>\n",
       "      <td>2017-05-01 00:00:02</td>\n",
       "      <td>2017-04-30 19:00:02</td>\n",
       "    </tr>\n",
       "    <tr>\n",
       "      <th>2</th>\n",
       "      <td>2017-05-01 00:00:03</td>\n",
       "      <td>1257</td>\n",
       "      <td>40.738593</td>\n",
       "      <td>-73.977293</td>\n",
       "      <td>53.86</td>\n",
       "      <td>0</td>\n",
       "      <td>20170430</td>\n",
       "      <td>OF_B7-Sunday-116600_SBS15_450</td>\n",
       "      <td>1</td>\n",
       "      <td>404995</td>\n",
       "      <td>5748.06</td>\n",
       "      <td>249.92</td>\n",
       "      <td>1</td>\n",
       "      <td>0</td>\n",
       "      <td>0</td>\n",
       "      <td>Mon</td>\n",
       "      <td>2017-05-01 00:00:03</td>\n",
       "      <td>2017-04-30 19:00:03</td>\n",
       "    </tr>\n",
       "    <tr>\n",
       "      <th>3</th>\n",
       "      <td>2017-05-01 00:00:08</td>\n",
       "      <td>1268</td>\n",
       "      <td>40.725444</td>\n",
       "      <td>-73.989970</td>\n",
       "      <td>233.85</td>\n",
       "      <td>0</td>\n",
       "      <td>20170430</td>\n",
       "      <td>OF_B7-Sunday-113500_SBS15_461</td>\n",
       "      <td>1</td>\n",
       "      <td>803078</td>\n",
       "      <td>10214.33</td>\n",
       "      <td>248.88</td>\n",
       "      <td>1</td>\n",
       "      <td>0</td>\n",
       "      <td>0</td>\n",
       "      <td>Mon</td>\n",
       "      <td>2017-05-01 00:00:08</td>\n",
       "      <td>2017-04-30 19:00:08</td>\n",
       "    </tr>\n",
       "    <tr>\n",
       "      <th>4</th>\n",
       "      <td>2017-05-01 00:00:08</td>\n",
       "      <td>1272</td>\n",
       "      <td>40.724697</td>\n",
       "      <td>-73.990513</td>\n",
       "      <td>234.26</td>\n",
       "      <td>0</td>\n",
       "      <td>20170430</td>\n",
       "      <td>OF_B7-Sunday-115200_SBS15_462</td>\n",
       "      <td>1</td>\n",
       "      <td>803078</td>\n",
       "      <td>10214.33</td>\n",
       "      <td>154.07</td>\n",
       "      <td>1</td>\n",
       "      <td>0</td>\n",
       "      <td>0</td>\n",
       "      <td>Mon</td>\n",
       "      <td>2017-05-01 00:00:08</td>\n",
       "      <td>2017-04-30 19:00:08</td>\n",
       "    </tr>\n",
       "  </tbody>\n",
       "</table>\n",
       "</div>"
      ],
      "text/plain": [
       "             timestamp  vehicle_id   latitude  longitude  bearing  progress  \\\n",
       "0  2017-05-01 00:00:01        1260  40.778163 -73.951532   233.87         0   \n",
       "1  2017-05-01 00:00:02        1263  40.782688 -73.945127    54.26         0   \n",
       "2  2017-05-01 00:00:03        1257  40.738593 -73.977293    53.86         0   \n",
       "3  2017-05-01 00:00:08        1268  40.725444 -73.989970   233.85         0   \n",
       "4  2017-05-01 00:00:08        1272  40.724697 -73.990513   234.26         0   \n",
       "\n",
       "   service_date                        trip_id  block_assigned  next_stop_id  \\\n",
       "0      20170430  OF_B7-Sunday-119100_SBS15_446               1        401756   \n",
       "1      20170430  OF_B7-Sunday-114900_SBS15_449               1        903102   \n",
       "2      20170430  OF_B7-Sunday-116600_SBS15_450               1        404995   \n",
       "3      20170430  OF_B7-Sunday-113500_SBS15_461               1        803078   \n",
       "4      20170430  OF_B7-Sunday-115200_SBS15_462               1        803078   \n",
       "\n",
       "   dist_along_route  dist_from_stop  Day  Hour  DOW DOW_Label  \\\n",
       "0           3935.60          668.81    1     0    0       Mon   \n",
       "1          11361.77          258.57    1     0    0       Mon   \n",
       "2           5748.06          249.92    1     0    0       Mon   \n",
       "3          10214.33          248.88    1     0    0       Mon   \n",
       "4          10214.33          154.07    1     0    0       Mon   \n",
       "\n",
       "        timestamp_utc       timestamp_est  \n",
       "0 2017-05-01 00:00:01 2017-04-30 19:00:01  \n",
       "1 2017-05-01 00:00:02 2017-04-30 19:00:02  \n",
       "2 2017-05-01 00:00:03 2017-04-30 19:00:03  \n",
       "3 2017-05-01 00:00:08 2017-04-30 19:00:08  \n",
       "4 2017-05-01 00:00:08 2017-04-30 19:00:08  "
      ]
     },
     "execution_count": 60,
     "metadata": {},
     "output_type": "execute_result"
    }
   ],
   "source": [
    "m15sbs_df.head()"
   ]
  },
  {
   "cell_type": "code",
   "execution_count": 61,
   "metadata": {},
   "outputs": [
    {
     "data": {
      "text/plain": [
       "(645572, 18)"
      ]
     },
     "execution_count": 61,
     "metadata": {},
     "output_type": "execute_result"
    }
   ],
   "source": [
    "m15sbs_df.shape"
   ]
  },
  {
   "cell_type": "code",
   "execution_count": 62,
   "metadata": {
    "scrolled": false
   },
   "outputs": [
    {
     "data": {
      "text/plain": [
       "timestamp                   object\n",
       "vehicle_id                   int64\n",
       "latitude                   float64\n",
       "longitude                  float64\n",
       "bearing                    float64\n",
       "progress                     int64\n",
       "service_date                 int64\n",
       "trip_id                     object\n",
       "block_assigned               int64\n",
       "next_stop_id                 int64\n",
       "dist_along_route           float64\n",
       "dist_from_stop             float64\n",
       "Day                          int64\n",
       "Hour                         int64\n",
       "DOW                          int64\n",
       "DOW_Label                   object\n",
       "timestamp_utc       datetime64[ns]\n",
       "timestamp_est       datetime64[ns]\n",
       "dtype: object"
      ]
     },
     "execution_count": 62,
     "metadata": {},
     "output_type": "execute_result"
    }
   ],
   "source": [
    "m15sbs_df.dtypes"
   ]
  },
  {
   "cell_type": "markdown",
   "metadata": {},
   "source": [
    "---\n",
    "\n",
    "# Data Cleaning and Selection\n",
    "\n",
    "- Select on Block Assignment > 0; if Block Assignment is 0, then the bus is not in service even it's runnin\n",
    "- Filter out trips with less than 15 records\n",
    "- create direction indicator\n"
   ]
  },
  {
   "cell_type": "code",
   "execution_count": 64,
   "metadata": {},
   "outputs": [],
   "source": [
    "def data_processing(df):\n",
    "    \n",
    "    '''\n",
    "    This function is the workflow of data cleaning and processing. It selects only buses in service, \n",
    "    filter out trips with enough samples, and infers the trip direction\n",
    "    Input: data frame for processing\n",
    "    Output: clean data frame with new columns\n",
    "    '''\n",
    "    \n",
    "    try:\n",
    "        # Select only Block Assignment > 0\n",
    "        clean_df = df[df.block_assigned > 0]\n",
    "\n",
    "        # Filter out trips with less than 15 records\n",
    "        clean_df = clean_df.groupby(clean_df.trip_id).filter(lambda group: len(group) > 15)\n",
    "\n",
    "        # Infer Direciton\n",
    "\n",
    "        for trip_id, group in clean_df.groupby(\"trip_id\"):\n",
    "            sort = group.sort_values(\"timestamp\")\n",
    "            trip =  clean_df[\"trip_id\"] == trip_id\n",
    "            if sort.iloc[0].latitude > sort.iloc[-1].latitude:\n",
    "                clean_df.loc[trip, \"direction\"] = 0 # southbound\n",
    "            else:\n",
    "                clean_df.loc[trip, \"direction\"] = 1 # northbound\n",
    "                \n",
    "    except Exception as e: \n",
    "        print(e)\n",
    "        pass\n",
    "            \n",
    "    return clean_df\n",
    "\n",
    "# Run the Data Processing Script\n",
    "clean_m15, clean_m15sbs = data_processing(m15_df), data_processing(m15sbs_df)"
   ]
  },
  {
   "cell_type": "code",
   "execution_count": 65,
   "metadata": {},
   "outputs": [
    {
     "data": {
      "text/plain": [
       "(645808, 19)"
      ]
     },
     "execution_count": 65,
     "metadata": {},
     "output_type": "execute_result"
    }
   ],
   "source": [
    "clean_m15.shape"
   ]
  },
  {
   "cell_type": "code",
   "execution_count": 66,
   "metadata": {
    "scrolled": true
   },
   "outputs": [
    {
     "data": {
      "text/plain": [
       "direction\n",
       "0.0    351599\n",
       "1.0    294209\n",
       "dtype: int64"
      ]
     },
     "execution_count": 66,
     "metadata": {},
     "output_type": "execute_result"
    }
   ],
   "source": [
    "clean_m15.groupby(\"direction\").size()"
   ]
  },
  {
   "cell_type": "code",
   "execution_count": 67,
   "metadata": {},
   "outputs": [
    {
     "data": {
      "text/plain": [
       "direction\n",
       "0.0    340017\n",
       "1.0    305555\n",
       "dtype: int64"
      ]
     },
     "execution_count": 67,
     "metadata": {},
     "output_type": "execute_result"
    }
   ],
   "source": [
    "clean_m15sbs.groupby(\"direction\").size()"
   ]
  },
  {
   "cell_type": "markdown",
   "metadata": {},
   "source": [
    "---\n",
    "\n",
    "# Analysis\n",
    "\n",
    "- Calculate speed between stops\n",
    "- "
   ]
  }
 ],
 "metadata": {
  "kernelspec": {
   "display_name": "PUI2016_Python3",
   "language": "python",
   "name": "pui2016_python3"
  },
  "language_info": {
   "codemirror_mode": {
    "name": "ipython",
    "version": 3
   },
   "file_extension": ".py",
   "mimetype": "text/x-python",
   "name": "python",
   "nbconvert_exporter": "python",
   "pygments_lexer": "ipython3",
   "version": "3.5.4"
  }
 },
 "nbformat": 4,
 "nbformat_minor": 2
}
