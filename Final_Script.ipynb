{
 "cells": [
  {
   "cell_type": "markdown",
   "metadata": {},
   "source": [
    "# Overview\n",
    "\n",
    "This is the script for Applied Data Science class project. The team performed in-depth analysis and comparison of bus speed between local and express buses. This analysis focuses on M15 and M15SBS that runs on East Manhattan.\n",
    "\n",
    "It includes the following: \n",
    "- Load Data\n",
    "- Data Processing\n",
    "- Bus Speed Calculation\n",
    "- Analysis\n",
    "- Statistical Testing"
   ]
  },
  {
   "cell_type": "code",
   "execution_count": 70,
   "metadata": {
    "collapsed": false
   },
   "outputs": [],
   "source": [
    "import matplotlib\n",
    "font = {'family' : 'normal',\n",
    "        'weight' : 'bold',\n",
    "        'size'   : 30}\n",
    "\n",
    "matplotlib.rc('font', **font)\n",
    "\n",
    "%matplotlib inline\n",
    "import matplotlib.pylab as plt\n",
    "import seaborn as sns\n",
    "#import geopandas as gpd\n",
    "import pandas as pd\n",
    "import numpy as np\n",
    "from datetime import timedelta, datetime\n",
    "\n",
    "#from fiona.crs import from_epsg\n",
    "import shapely\n",
    "from shapely.geometry import *\n",
    "\n",
    "\n",
    "from geopy.distance import vincenty"
   ]
  },
  {
   "cell_type": "markdown",
   "metadata": {},
   "source": [
    "---\n",
    "\n",
    "# Load Data\n",
    "\n",
    "- Remove Redundent Columns\n",
    "- Specify DateTime Columns\n",
    "- Convert time from UTC to EDT"
   ]
  },
  {
   "cell_type": "code",
   "execution_count": 2,
   "metadata": {
    "collapsed": true
   },
   "outputs": [],
   "source": [
    "def read_data(url):\n",
    "    '''\n",
    "    This function reads the specified data from URL, drop unwanted columns, and convert UTC to EST\n",
    "    Input: url to the dataset\n",
    "    Output: Pandas Dataframe of bus trip data\n",
    "    \n",
    "    '''\n",
    "    try:\n",
    "        df = pd.read_csv(url, infer_datetime_format = True)\n",
    "        df = df.drop([\"Unnamed: 0\", \"Unnamed: 0.1\"], axis = 1)\n",
    "        df['timestamp_utc'] = pd.to_datetime(df['timestamp'])\n",
    "        df['timestamp_est'] = df['timestamp_utc'] - timedelta(hours=5)\n",
    "    except Exception as e:\n",
    "        print(e)\n",
    "        pass\n",
    "\n",
    "    return df\n",
    "\n",
    "\n",
    "# Run the Data Load Scritp\n",
    "url_m15 = \"./data/m15_final.csv\"\n",
    "url_m15sbs = \"./data/m15_sbs_final.csv\"\n",
    "\n",
    "m15_df, m15sbs_df = read_data(url_m15), read_data(url_m15sbs)\n"
   ]
  },
  {
   "cell_type": "code",
   "execution_count": 3,
   "metadata": {
    "collapsed": false,
    "scrolled": true
   },
   "outputs": [
    {
     "data": {
      "text/html": [
       "<div>\n",
       "<style scoped>\n",
       "    .dataframe tbody tr th:only-of-type {\n",
       "        vertical-align: middle;\n",
       "    }\n",
       "\n",
       "    .dataframe tbody tr th {\n",
       "        vertical-align: top;\n",
       "    }\n",
       "\n",
       "    .dataframe thead th {\n",
       "        text-align: right;\n",
       "    }\n",
       "</style>\n",
       "<table border=\"1\" class=\"dataframe\">\n",
       "  <thead>\n",
       "    <tr style=\"text-align: right;\">\n",
       "      <th></th>\n",
       "      <th>timestamp</th>\n",
       "      <th>vehicle_id</th>\n",
       "      <th>latitude</th>\n",
       "      <th>longitude</th>\n",
       "      <th>bearing</th>\n",
       "      <th>progress</th>\n",
       "      <th>service_date</th>\n",
       "      <th>trip_id</th>\n",
       "      <th>block_assigned</th>\n",
       "      <th>next_stop_id</th>\n",
       "      <th>dist_along_route</th>\n",
       "      <th>dist_from_stop</th>\n",
       "      <th>Day</th>\n",
       "      <th>Hour</th>\n",
       "      <th>DOW</th>\n",
       "      <th>DOW_Label</th>\n",
       "      <th>timestamp_utc</th>\n",
       "      <th>timestamp_est</th>\n",
       "    </tr>\n",
       "  </thead>\n",
       "  <tbody>\n",
       "    <tr>\n",
       "      <th>0</th>\n",
       "      <td>2017-05-01 00:00:00</td>\n",
       "      <td>5254</td>\n",
       "      <td>40.731723</td>\n",
       "      <td>-73.985397</td>\n",
       "      <td>233.71</td>\n",
       "      <td>0</td>\n",
       "      <td>20170430</td>\n",
       "      <td>OH_B7-Sunday-113300_M15_36</td>\n",
       "      <td>1</td>\n",
       "      <td>404105</td>\n",
       "      <td>9289.01</td>\n",
       "      <td>121.04</td>\n",
       "      <td>1</td>\n",
       "      <td>0</td>\n",
       "      <td>0</td>\n",
       "      <td>Mon</td>\n",
       "      <td>2017-05-01 00:00:00</td>\n",
       "      <td>2017-04-30 19:00:00</td>\n",
       "    </tr>\n",
       "    <tr>\n",
       "      <th>1</th>\n",
       "      <td>2017-05-01 00:00:01</td>\n",
       "      <td>5585</td>\n",
       "      <td>40.753502</td>\n",
       "      <td>-73.966428</td>\n",
       "      <td>54.36</td>\n",
       "      <td>0</td>\n",
       "      <td>20170430</td>\n",
       "      <td>OH_B7-Sunday-115300_M15_28</td>\n",
       "      <td>1</td>\n",
       "      <td>401701</td>\n",
       "      <td>7417.29</td>\n",
       "      <td>13.53</td>\n",
       "      <td>1</td>\n",
       "      <td>0</td>\n",
       "      <td>0</td>\n",
       "      <td>Mon</td>\n",
       "      <td>2017-05-01 00:00:01</td>\n",
       "      <td>2017-04-30 19:00:01</td>\n",
       "    </tr>\n",
       "    <tr>\n",
       "      <th>2</th>\n",
       "      <td>2017-05-01 00:00:03</td>\n",
       "      <td>5549</td>\n",
       "      <td>40.777583</td>\n",
       "      <td>-73.948857</td>\n",
       "      <td>53.97</td>\n",
       "      <td>0</td>\n",
       "      <td>20170430</td>\n",
       "      <td>OH_B7-Sunday-113300_M15_49</td>\n",
       "      <td>1</td>\n",
       "      <td>401716</td>\n",
       "      <td>10650.91</td>\n",
       "      <td>187.72</td>\n",
       "      <td>1</td>\n",
       "      <td>0</td>\n",
       "      <td>0</td>\n",
       "      <td>Mon</td>\n",
       "      <td>2017-05-01 00:00:03</td>\n",
       "      <td>2017-04-30 19:00:03</td>\n",
       "    </tr>\n",
       "    <tr>\n",
       "      <th>3</th>\n",
       "      <td>2017-05-01 00:00:03</td>\n",
       "      <td>5959</td>\n",
       "      <td>40.705924</td>\n",
       "      <td>-74.006331</td>\n",
       "      <td>34.83</td>\n",
       "      <td>0</td>\n",
       "      <td>20170430</td>\n",
       "      <td>OH_B7-Sunday-119300_M15_34</td>\n",
       "      <td>1</td>\n",
       "      <td>401667</td>\n",
       "      <td>867.48</td>\n",
       "      <td>67.73</td>\n",
       "      <td>1</td>\n",
       "      <td>0</td>\n",
       "      <td>0</td>\n",
       "      <td>Mon</td>\n",
       "      <td>2017-05-01 00:00:03</td>\n",
       "      <td>2017-04-30 19:00:03</td>\n",
       "    </tr>\n",
       "    <tr>\n",
       "      <th>4</th>\n",
       "      <td>2017-05-01 00:00:10</td>\n",
       "      <td>5544</td>\n",
       "      <td>40.789946</td>\n",
       "      <td>-73.939831</td>\n",
       "      <td>53.84</td>\n",
       "      <td>0</td>\n",
       "      <td>20170430</td>\n",
       "      <td>OH_B7-Sunday-113400_M15_23</td>\n",
       "      <td>1</td>\n",
       "      <td>401724</td>\n",
       "      <td>10146.39</td>\n",
       "      <td>224.11</td>\n",
       "      <td>1</td>\n",
       "      <td>0</td>\n",
       "      <td>0</td>\n",
       "      <td>Mon</td>\n",
       "      <td>2017-05-01 00:00:10</td>\n",
       "      <td>2017-04-30 19:00:10</td>\n",
       "    </tr>\n",
       "  </tbody>\n",
       "</table>\n",
       "</div>"
      ],
      "text/plain": [
       "             timestamp  vehicle_id   latitude  longitude  bearing  progress  \\\n",
       "0  2017-05-01 00:00:00        5254  40.731723 -73.985397   233.71         0   \n",
       "1  2017-05-01 00:00:01        5585  40.753502 -73.966428    54.36         0   \n",
       "2  2017-05-01 00:00:03        5549  40.777583 -73.948857    53.97         0   \n",
       "3  2017-05-01 00:00:03        5959  40.705924 -74.006331    34.83         0   \n",
       "4  2017-05-01 00:00:10        5544  40.789946 -73.939831    53.84         0   \n",
       "\n",
       "   service_date                     trip_id  block_assigned  next_stop_id  \\\n",
       "0      20170430  OH_B7-Sunday-113300_M15_36               1        404105   \n",
       "1      20170430  OH_B7-Sunday-115300_M15_28               1        401701   \n",
       "2      20170430  OH_B7-Sunday-113300_M15_49               1        401716   \n",
       "3      20170430  OH_B7-Sunday-119300_M15_34               1        401667   \n",
       "4      20170430  OH_B7-Sunday-113400_M15_23               1        401724   \n",
       "\n",
       "   dist_along_route  dist_from_stop  Day  Hour  DOW DOW_Label  \\\n",
       "0           9289.01          121.04    1     0    0       Mon   \n",
       "1           7417.29           13.53    1     0    0       Mon   \n",
       "2          10650.91          187.72    1     0    0       Mon   \n",
       "3            867.48           67.73    1     0    0       Mon   \n",
       "4          10146.39          224.11    1     0    0       Mon   \n",
       "\n",
       "        timestamp_utc       timestamp_est  \n",
       "0 2017-05-01 00:00:00 2017-04-30 19:00:00  \n",
       "1 2017-05-01 00:00:01 2017-04-30 19:00:01  \n",
       "2 2017-05-01 00:00:03 2017-04-30 19:00:03  \n",
       "3 2017-05-01 00:00:03 2017-04-30 19:00:03  \n",
       "4 2017-05-01 00:00:10 2017-04-30 19:00:10  "
      ]
     },
     "execution_count": 3,
     "metadata": {},
     "output_type": "execute_result"
    }
   ],
   "source": [
    "m15_df.head()"
   ]
  },
  {
   "cell_type": "code",
   "execution_count": 4,
   "metadata": {
    "collapsed": false,
    "scrolled": false
   },
   "outputs": [
    {
     "data": {
      "text/plain": [
       "(645808, 18)"
      ]
     },
     "execution_count": 4,
     "metadata": {},
     "output_type": "execute_result"
    }
   ],
   "source": [
    "m15_df.shape"
   ]
  },
  {
   "cell_type": "code",
   "execution_count": 5,
   "metadata": {
    "collapsed": false
   },
   "outputs": [
    {
     "data": {
      "text/plain": [
       "timestamp                   object\n",
       "vehicle_id                   int64\n",
       "latitude                   float64\n",
       "longitude                  float64\n",
       "bearing                    float64\n",
       "progress                     int64\n",
       "service_date                 int64\n",
       "trip_id                     object\n",
       "block_assigned               int64\n",
       "next_stop_id                 int64\n",
       "dist_along_route           float64\n",
       "dist_from_stop             float64\n",
       "Day                          int64\n",
       "Hour                         int64\n",
       "DOW                          int64\n",
       "DOW_Label                   object\n",
       "timestamp_utc       datetime64[ns]\n",
       "timestamp_est       datetime64[ns]\n",
       "dtype: object"
      ]
     },
     "execution_count": 5,
     "metadata": {},
     "output_type": "execute_result"
    }
   ],
   "source": [
    "m15_df.dtypes"
   ]
  },
  {
   "cell_type": "code",
   "execution_count": 21,
   "metadata": {
    "collapsed": false,
    "scrolled": true
   },
   "outputs": [
    {
     "data": {
      "text/html": [
       "<div>\n",
       "<style scoped>\n",
       "    .dataframe tbody tr th:only-of-type {\n",
       "        vertical-align: middle;\n",
       "    }\n",
       "\n",
       "    .dataframe tbody tr th {\n",
       "        vertical-align: top;\n",
       "    }\n",
       "\n",
       "    .dataframe thead th {\n",
       "        text-align: right;\n",
       "    }\n",
       "</style>\n",
       "<table border=\"1\" class=\"dataframe\">\n",
       "  <thead>\n",
       "    <tr style=\"text-align: right;\">\n",
       "      <th></th>\n",
       "      <th>timestamp</th>\n",
       "      <th>vehicle_id</th>\n",
       "      <th>latitude</th>\n",
       "      <th>longitude</th>\n",
       "      <th>bearing</th>\n",
       "      <th>progress</th>\n",
       "      <th>service_date</th>\n",
       "      <th>trip_id</th>\n",
       "      <th>block_assigned</th>\n",
       "      <th>next_stop_id</th>\n",
       "      <th>dist_along_route</th>\n",
       "      <th>dist_from_stop</th>\n",
       "      <th>Day</th>\n",
       "      <th>Hour</th>\n",
       "      <th>DOW</th>\n",
       "      <th>DOW_Label</th>\n",
       "      <th>timestamp_utc</th>\n",
       "      <th>timestamp_est</th>\n",
       "    </tr>\n",
       "  </thead>\n",
       "  <tbody>\n",
       "    <tr>\n",
       "      <th>0</th>\n",
       "      <td>2017-05-01 00:00:01</td>\n",
       "      <td>1260</td>\n",
       "      <td>40.778163</td>\n",
       "      <td>-73.951532</td>\n",
       "      <td>233.87</td>\n",
       "      <td>0</td>\n",
       "      <td>20170430</td>\n",
       "      <td>OF_B7-Sunday-119100_SBS15_446</td>\n",
       "      <td>1</td>\n",
       "      <td>401756</td>\n",
       "      <td>3935.60</td>\n",
       "      <td>668.81</td>\n",
       "      <td>1</td>\n",
       "      <td>0</td>\n",
       "      <td>0</td>\n",
       "      <td>Mon</td>\n",
       "      <td>2017-05-01 00:00:01</td>\n",
       "      <td>2017-04-30 19:00:01</td>\n",
       "    </tr>\n",
       "    <tr>\n",
       "      <th>1</th>\n",
       "      <td>2017-05-01 00:00:02</td>\n",
       "      <td>1263</td>\n",
       "      <td>40.782688</td>\n",
       "      <td>-73.945127</td>\n",
       "      <td>54.26</td>\n",
       "      <td>0</td>\n",
       "      <td>20170430</td>\n",
       "      <td>OF_B7-Sunday-114900_SBS15_449</td>\n",
       "      <td>1</td>\n",
       "      <td>903102</td>\n",
       "      <td>11361.77</td>\n",
       "      <td>258.57</td>\n",
       "      <td>1</td>\n",
       "      <td>0</td>\n",
       "      <td>0</td>\n",
       "      <td>Mon</td>\n",
       "      <td>2017-05-01 00:00:02</td>\n",
       "      <td>2017-04-30 19:00:02</td>\n",
       "    </tr>\n",
       "    <tr>\n",
       "      <th>2</th>\n",
       "      <td>2017-05-01 00:00:03</td>\n",
       "      <td>1257</td>\n",
       "      <td>40.738593</td>\n",
       "      <td>-73.977293</td>\n",
       "      <td>53.86</td>\n",
       "      <td>0</td>\n",
       "      <td>20170430</td>\n",
       "      <td>OF_B7-Sunday-116600_SBS15_450</td>\n",
       "      <td>1</td>\n",
       "      <td>404995</td>\n",
       "      <td>5748.06</td>\n",
       "      <td>249.92</td>\n",
       "      <td>1</td>\n",
       "      <td>0</td>\n",
       "      <td>0</td>\n",
       "      <td>Mon</td>\n",
       "      <td>2017-05-01 00:00:03</td>\n",
       "      <td>2017-04-30 19:00:03</td>\n",
       "    </tr>\n",
       "    <tr>\n",
       "      <th>3</th>\n",
       "      <td>2017-05-01 00:00:08</td>\n",
       "      <td>1268</td>\n",
       "      <td>40.725444</td>\n",
       "      <td>-73.989970</td>\n",
       "      <td>233.85</td>\n",
       "      <td>0</td>\n",
       "      <td>20170430</td>\n",
       "      <td>OF_B7-Sunday-113500_SBS15_461</td>\n",
       "      <td>1</td>\n",
       "      <td>803078</td>\n",
       "      <td>10214.33</td>\n",
       "      <td>248.88</td>\n",
       "      <td>1</td>\n",
       "      <td>0</td>\n",
       "      <td>0</td>\n",
       "      <td>Mon</td>\n",
       "      <td>2017-05-01 00:00:08</td>\n",
       "      <td>2017-04-30 19:00:08</td>\n",
       "    </tr>\n",
       "    <tr>\n",
       "      <th>4</th>\n",
       "      <td>2017-05-01 00:00:08</td>\n",
       "      <td>1272</td>\n",
       "      <td>40.724697</td>\n",
       "      <td>-73.990513</td>\n",
       "      <td>234.26</td>\n",
       "      <td>0</td>\n",
       "      <td>20170430</td>\n",
       "      <td>OF_B7-Sunday-115200_SBS15_462</td>\n",
       "      <td>1</td>\n",
       "      <td>803078</td>\n",
       "      <td>10214.33</td>\n",
       "      <td>154.07</td>\n",
       "      <td>1</td>\n",
       "      <td>0</td>\n",
       "      <td>0</td>\n",
       "      <td>Mon</td>\n",
       "      <td>2017-05-01 00:00:08</td>\n",
       "      <td>2017-04-30 19:00:08</td>\n",
       "    </tr>\n",
       "  </tbody>\n",
       "</table>\n",
       "</div>"
      ],
      "text/plain": [
       "             timestamp  vehicle_id   latitude  longitude  bearing  progress  \\\n",
       "0  2017-05-01 00:00:01        1260  40.778163 -73.951532   233.87         0   \n",
       "1  2017-05-01 00:00:02        1263  40.782688 -73.945127    54.26         0   \n",
       "2  2017-05-01 00:00:03        1257  40.738593 -73.977293    53.86         0   \n",
       "3  2017-05-01 00:00:08        1268  40.725444 -73.989970   233.85         0   \n",
       "4  2017-05-01 00:00:08        1272  40.724697 -73.990513   234.26         0   \n",
       "\n",
       "   service_date                        trip_id  block_assigned  next_stop_id  \\\n",
       "0      20170430  OF_B7-Sunday-119100_SBS15_446               1        401756   \n",
       "1      20170430  OF_B7-Sunday-114900_SBS15_449               1        903102   \n",
       "2      20170430  OF_B7-Sunday-116600_SBS15_450               1        404995   \n",
       "3      20170430  OF_B7-Sunday-113500_SBS15_461               1        803078   \n",
       "4      20170430  OF_B7-Sunday-115200_SBS15_462               1        803078   \n",
       "\n",
       "   dist_along_route  dist_from_stop  Day  Hour  DOW DOW_Label  \\\n",
       "0           3935.60          668.81    1     0    0       Mon   \n",
       "1          11361.77          258.57    1     0    0       Mon   \n",
       "2           5748.06          249.92    1     0    0       Mon   \n",
       "3          10214.33          248.88    1     0    0       Mon   \n",
       "4          10214.33          154.07    1     0    0       Mon   \n",
       "\n",
       "        timestamp_utc       timestamp_est  \n",
       "0 2017-05-01 00:00:01 2017-04-30 19:00:01  \n",
       "1 2017-05-01 00:00:02 2017-04-30 19:00:02  \n",
       "2 2017-05-01 00:00:03 2017-04-30 19:00:03  \n",
       "3 2017-05-01 00:00:08 2017-04-30 19:00:08  \n",
       "4 2017-05-01 00:00:08 2017-04-30 19:00:08  "
      ]
     },
     "execution_count": 21,
     "metadata": {},
     "output_type": "execute_result"
    }
   ],
   "source": [
    "m15sbs_df.head()"
   ]
  },
  {
   "cell_type": "code",
   "execution_count": 61,
   "metadata": {
    "collapsed": false
   },
   "outputs": [
    {
     "data": {
      "text/plain": [
       "(645572, 18)"
      ]
     },
     "execution_count": 61,
     "metadata": {},
     "output_type": "execute_result"
    }
   ],
   "source": [
    "m15sbs_df.shape"
   ]
  },
  {
   "cell_type": "code",
   "execution_count": 62,
   "metadata": {
    "collapsed": false,
    "scrolled": false
   },
   "outputs": [
    {
     "data": {
      "text/plain": [
       "timestamp                   object\n",
       "vehicle_id                   int64\n",
       "latitude                   float64\n",
       "longitude                  float64\n",
       "bearing                    float64\n",
       "progress                     int64\n",
       "service_date                 int64\n",
       "trip_id                     object\n",
       "block_assigned               int64\n",
       "next_stop_id                 int64\n",
       "dist_along_route           float64\n",
       "dist_from_stop             float64\n",
       "Day                          int64\n",
       "Hour                         int64\n",
       "DOW                          int64\n",
       "DOW_Label                   object\n",
       "timestamp_utc       datetime64[ns]\n",
       "timestamp_est       datetime64[ns]\n",
       "dtype: object"
      ]
     },
     "execution_count": 62,
     "metadata": {},
     "output_type": "execute_result"
    }
   ],
   "source": [
    "m15sbs_df.dtypes"
   ]
  },
  {
   "cell_type": "markdown",
   "metadata": {},
   "source": [
    "---\n",
    "\n",
    "# Data Cleaning and Selection\n",
    "\n",
    "- Select on Block Assignment > 0; if Block Assignment is 0, then the bus is not in service even it's runnin\n",
    "- Filter out trips with less than 15 records\n",
    "- create direction indicator\n"
   ]
  },
  {
   "cell_type": "code",
   "execution_count": 6,
   "metadata": {
    "collapsed": true
   },
   "outputs": [],
   "source": [
    "def data_processing(df):\n",
    "    \n",
    "    '''\n",
    "    This function is the workflow of data cleaning and processing. It selects only buses in service, \n",
    "    filter out trips with enough samples, and infers the trip direction\n",
    "    Input: data frame for processing\n",
    "    Output: clean data frame with new columns\n",
    "    '''\n",
    "    \n",
    "    try:\n",
    "        # Select only Block Assignment > 0\n",
    "        clean_df = df[df.block_assigned > 0]\n",
    "\n",
    "        # Filter out trips with less than 15 records\n",
    "        clean_df = clean_df.groupby(clean_df.trip_id).filter(lambda group: len(group) > 15)\n",
    "\n",
    "        # Infer Direciton\n",
    "\n",
    "        for trip_id, group in clean_df.groupby(\"trip_id\"):\n",
    "            sort = group.sort_values(\"timestamp\")\n",
    "            trip =  clean_df[\"trip_id\"] == trip_id\n",
    "            if sort.iloc[0].latitude > sort.iloc[-1].latitude:\n",
    "                clean_df.loc[trip, \"direction\"] = 0 # southbound\n",
    "            else:\n",
    "                clean_df.loc[trip, \"direction\"] = 1 # northbound\n",
    "                \n",
    "    except Exception as e: \n",
    "        print(e)\n",
    "        pass\n",
    "            \n",
    "    return clean_df\n",
    "\n",
    "# Run the Data Processing Script\n",
    "clean_m15, clean_m15sbs = data_processing(m15_df), data_processing(m15sbs_df)"
   ]
  },
  {
   "cell_type": "code",
   "execution_count": 65,
   "metadata": {
    "collapsed": false
   },
   "outputs": [
    {
     "data": {
      "text/plain": [
       "(645808, 19)"
      ]
     },
     "execution_count": 65,
     "metadata": {},
     "output_type": "execute_result"
    }
   ],
   "source": [
    "clean_m15.shape"
   ]
  },
  {
   "cell_type": "code",
   "execution_count": 66,
   "metadata": {
    "collapsed": false,
    "scrolled": true
   },
   "outputs": [
    {
     "data": {
      "text/plain": [
       "direction\n",
       "0.0    351599\n",
       "1.0    294209\n",
       "dtype: int64"
      ]
     },
     "execution_count": 66,
     "metadata": {},
     "output_type": "execute_result"
    }
   ],
   "source": [
    "clean_m15.groupby(\"direction\").size()"
   ]
  },
  {
   "cell_type": "code",
   "execution_count": 67,
   "metadata": {
    "collapsed": false
   },
   "outputs": [
    {
     "data": {
      "text/plain": [
       "direction\n",
       "0.0    340017\n",
       "1.0    305555\n",
       "dtype: int64"
      ]
     },
     "execution_count": 67,
     "metadata": {},
     "output_type": "execute_result"
    }
   ],
   "source": [
    "clean_m15sbs.groupby(\"direction\").size()"
   ]
  },
  {
   "cell_type": "code",
   "execution_count": 57,
   "metadata": {
    "collapsed": false
   },
   "outputs": [
    {
     "data": {
      "text/plain": [
       "1416"
      ]
     },
     "execution_count": 57,
     "metadata": {},
     "output_type": "execute_result"
    }
   ],
   "source": [
    "len(clean_m15.groupby(\"trip_id\"))\n"
   ]
  },
  {
   "cell_type": "markdown",
   "metadata": {},
   "source": [
    "---\n",
    "\n",
    "# Analysis\n",
    "\n",
    "- Calculate speed between stops\n",
    "- Calculate overall trip speed\n",
    "- Look at differences and test for significance"
   ]
  },
  {
   "cell_type": "markdown",
   "metadata": {},
   "source": [
    "### Speed between stops"
   ]
  },
  {
   "cell_type": "code",
   "execution_count": 32,
   "metadata": {
    "collapsed": true
   },
   "outputs": [],
   "source": [
    "def get_speed_df(group):\n",
    "    ordered_stops = group.drop_duplicates(subset=\"next_stop_id\", keep=\"first\")[\"next_stop_id\"].as_matrix()\n",
    "    first_stops = group.groupby(\"next_stop_id\").first()\n",
    "    last_stops = group.groupby(\"next_stop_id\").last()\n",
    "    \n",
    "    dicts = []\n",
    "    for i, cur_stop in enumerate(ordered_stops):\n",
    "        d = {}\n",
    "        next_stop = ordered_stops[i + 1] if (i + 1) < len(ordered_stops) else -1\n",
    "        if next_stop == -1:\n",
    "            continue\n",
    "        try:\n",
    "            prev_info = last_stops.loc[cur_stop]\n",
    "            next_info = last_stops.loc[next_stop]\n",
    "        except:\n",
    "            print 'crap'\n",
    "            continue\n",
    "        \n",
    "        time_between = next_info.timestamp_est - prev_info.timestamp_est\n",
    "        if time_between.seconds == 0:\n",
    "            return next_info, prev_info\n",
    "        \n",
    "        d['next_stop'] = next_stop\n",
    "        d['prev_stop'] = cur_stop\n",
    "        d['time_between'] = time_between\n",
    "        d['dist_between'] = vincenty(next_info[[\"latitude\", \"longitude\"]],\n",
    "                                     prev_info[[\"latitude\", \"longitude\"]]).miles\n",
    "        d[\"mph\"] = d[\"dist_between\"]* 3600. / (d[\"time_between\"].seconds)\n",
    "        d[\"depart_timestamp\"] = prev_info.timestamp_est\n",
    "        d[\"arrive_timestamp\"] = next_info.timestamp_est\n",
    "        d[\"depart_lat\"] = prev_info.latitude\n",
    "        d[\"depart_lng\"] = prev_info.longitude\n",
    "        d[\"arrive_lat\"] = next_info.latitude\n",
    "        d[\"arrive_lng\"] = next_info.longitude\n",
    "        d[\"direction\"] = next_info.direction\n",
    "        dicts.append(d)\n",
    "    speed_info = pd.DataFrame(dicts)\n",
    "    return speed_info"
   ]
  },
  {
   "cell_type": "code",
   "execution_count": 39,
   "metadata": {
    "collapsed": false
   },
   "outputs": [
    {
     "name": "stdout",
     "output_type": "stream",
     "text": [
      "=======\n",
      "on day 1\n",
      "0\n",
      "100\n",
      "200\n",
      "300\n",
      "=======\n",
      "on day 2\n",
      "0\n",
      "100\n",
      "200\n",
      "300\n",
      "=======\n",
      "on day 3\n",
      "0\n",
      "100\n",
      "200\n",
      "300\n",
      "=======\n",
      "on day 4\n",
      "0\n",
      "100\n",
      "200\n",
      "300\n",
      "=======\n",
      "on day 5\n",
      "0\n",
      "100\n",
      "200\n",
      "300\n",
      "=======\n",
      "on day 6\n",
      "0\n",
      "100\n",
      "200\n",
      "=======\n",
      "on day 7\n",
      "0\n",
      "100\n",
      "200\n",
      "=======\n",
      "on day 8\n",
      "0\n",
      "100\n",
      "200\n",
      "300\n",
      "=======\n",
      "on day 9\n",
      "0\n",
      "100\n",
      "200\n",
      "300\n",
      "=======\n",
      "on day 10\n",
      "0\n",
      "100\n",
      "200\n",
      "300\n",
      "=======\n",
      "on day 11\n",
      "0\n",
      "100\n",
      "200\n",
      "300\n",
      "=======\n",
      "on day 12\n",
      "0\n",
      "100\n",
      "200\n",
      "300\n",
      "=======\n",
      "on day 13\n",
      "0\n",
      "100\n",
      "200\n",
      "=======\n",
      "on day 14\n",
      "0\n",
      "100\n",
      "200\n",
      "=======\n",
      "on day 15\n",
      "0\n",
      "100\n",
      "200\n",
      "300\n",
      "=======\n",
      "on day 16\n",
      "0\n",
      "100\n",
      "200\n",
      "300\n",
      "=======\n",
      "on day 17\n",
      "0\n",
      "100\n",
      "200\n",
      "300\n",
      "=======\n",
      "on day 18\n",
      "0\n",
      "100\n",
      "200\n",
      "300\n",
      "=======\n",
      "on day 19\n",
      "0\n",
      "100\n",
      "200\n",
      "300\n",
      "=======\n",
      "on day 20\n",
      "0\n",
      "100\n",
      "200\n",
      "=======\n",
      "on day 21\n",
      "0\n",
      "100\n",
      "200\n",
      "=======\n",
      "on day 22\n",
      "0\n",
      "100\n",
      "200\n",
      "300\n",
      "=======\n",
      "on day 23\n",
      "0\n",
      "100\n",
      "200\n",
      "300\n",
      "=======\n",
      "on day 24\n",
      "0\n",
      "100\n",
      "200\n",
      "300\n",
      "=======\n",
      "on day 25\n",
      "0\n",
      "100\n",
      "200\n",
      "300\n",
      "=======\n",
      "on day 26\n",
      "0\n",
      "100\n",
      "200\n",
      "300\n",
      "=======\n",
      "on day 27\n",
      "0\n",
      "100\n",
      "200\n",
      "=======\n",
      "on day 28\n",
      "0\n",
      "100\n",
      "=======\n",
      "on day 29\n",
      "0\n",
      "100\n",
      "=======\n",
      "on day 30\n",
      "0\n",
      "100\n",
      "200\n",
      "300\n",
      "=======\n",
      "on day 31\n",
      "0\n",
      "100\n",
      "200\n",
      "300\n",
      "=======\n",
      "on day 1\n",
      "0\n",
      "100\n",
      "200\n",
      "=======\n",
      "on day 2\n",
      "0\n",
      "100\n",
      "200\n",
      "=======\n",
      "on day 3\n",
      "0\n",
      "100\n",
      "200\n",
      "=======\n",
      "on day 4\n",
      "0\n",
      "100\n",
      "200\n",
      "=======\n",
      "on day 5\n",
      "0\n",
      "100\n",
      "200\n",
      "=======\n",
      "on day 6\n",
      "0\n",
      "100\n",
      "200\n",
      "=======\n",
      "on day 7\n",
      "0\n",
      "100\n",
      "200\n",
      "=======\n",
      "on day 8\n",
      "0\n",
      "100\n",
      "200\n",
      "=======\n",
      "on day 9\n",
      "0\n",
      "100\n",
      "200\n",
      "=======\n",
      "on day 10\n",
      "0\n",
      "100\n",
      "200\n",
      "=======\n",
      "on day 11\n",
      "0\n",
      "100\n",
      "200\n",
      "=======\n",
      "on day 12\n",
      "0\n",
      "100\n",
      "200\n",
      "=======\n",
      "on day 13\n",
      "0\n",
      "100\n",
      "200\n",
      "=======\n",
      "on day 14\n",
      "0\n",
      "100\n",
      "200\n",
      "=======\n",
      "on day 15\n",
      "0\n",
      "100\n",
      "200\n",
      "=======\n",
      "on day 16\n",
      "0\n",
      "100\n",
      "200\n",
      "=======\n",
      "on day 17\n",
      "0\n",
      "100\n",
      "200\n",
      "=======\n",
      "on day 18\n",
      "0\n",
      "100\n",
      "200\n",
      "=======\n",
      "on day 19\n",
      "0\n",
      "100\n",
      "200\n",
      "=======\n",
      "on day 20\n",
      "0\n",
      "100\n",
      "200\n",
      "=======\n",
      "on day 21\n",
      "0\n",
      "100\n",
      "200\n",
      "=======\n",
      "on day 22\n",
      "0\n",
      "100\n",
      "200\n",
      "=======\n",
      "on day 23\n",
      "0\n",
      "100\n",
      "200\n",
      "=======\n",
      "on day 24\n",
      "0\n",
      "100\n",
      "200\n",
      "=======\n",
      "on day 25\n",
      "0\n",
      "100\n",
      "200\n",
      "=======\n",
      "on day 26\n",
      "0\n",
      "100\n",
      "200\n",
      "=======\n",
      "on day 27\n",
      "0\n",
      "100\n",
      "200\n",
      "=======\n",
      "on day 28\n",
      "0\n",
      "100\n",
      "200\n",
      "=======\n",
      "on day 29\n",
      "0\n",
      "100\n",
      "200\n",
      "=======\n",
      "on day 30\n",
      "0\n",
      "100\n",
      "200\n",
      "=======\n",
      "on day 31\n",
      "0\n",
      "100\n",
      "200\n"
     ]
    }
   ],
   "source": [
    "def gen_interval_df(timestamps):\n",
    "    by_days = timestamps.groupby(\"Day\")\n",
    "    infos = []\n",
    "    for day, day_group in by_days:\n",
    "        print \"=======\"\n",
    "        print \"on day {}\".format(day)\n",
    "        by_trip = day_group.groupby(\"trip_id\")\n",
    "        for i, (ix, g) in enumerate(by_trip):\n",
    "            by_vehicle = g.groupby(\"vehicle_id\")\n",
    "            if i % 100 == 0:\n",
    "                print i\n",
    "            for vehicle, v_group in by_vehicle:\n",
    "                if len(v_group) < 15:\n",
    "                    continue\n",
    "                info = get_speed_df(v_group)\n",
    "                if isinstance(info, tuple):\n",
    "                    print \"BREAK!!!!!\"\n",
    "                    return info\n",
    "                info[\"trip_id\"] = ix\n",
    "                info[\"day\"] = day\n",
    "                info[\"vehicle\"] = vehicle\n",
    "                infos.append(info)\n",
    "    final = pd.concat(infos)\n",
    "    return final\n",
    "\n",
    "clean_m15sbs.sort_values(\"timestamp_est\", inplace=True)\n",
    "clean_m15.sort_values(\"timestamp_est\", inplace=True)\n",
    "final_intervals_m15sbs = gen_interval_df(clean_m15sbs)\n",
    "final_intervals_m15 = gen_interval_df(clean_m15)"
   ]
  },
  {
   "cell_type": "code",
   "execution_count": 40,
   "metadata": {
    "collapsed": false
   },
   "outputs": [],
   "source": [
    "final_intervals_m15.to_csv(\"./data/m15_final_interval.csv\")\n",
    "final_intervals_m15sbs.to_csv(\"./data/m15sbs_final_interval.csv\")"
   ]
  },
  {
   "cell_type": "markdown",
   "metadata": {},
   "source": [
    "## Overall Speed"
   ]
  },
  {
   "cell_type": "code",
   "execution_count": 122,
   "metadata": {
    "collapsed": false
   },
   "outputs": [],
   "source": [
    "def total_mph(last, first):\n",
    "    secs = (last.arrive_timestamp - first.depart_timestamp).seconds\n",
    "    dist = vincenty(last[[\"arrive_lat\", \"arrive_lng\"]],\n",
    "                    first[[\"depart_lat\", \"depart_lng\"]]).miles\n",
    "    return dist * 3600. / secs\n",
    "    \n",
    "overall_speeds_reg = final_intervals_m15.groupby([\"day\", \"trip_id\", \"direction\", \"vehicle\"]).apply(lambda g: total_mph(g.iloc[-1], g.iloc[0]))\n",
    "overall_speeds_sbs = final_intervals_m15sbs.groupby([\"day\", \"trip_id\", \"direction\", \"vehicle\"]).apply(lambda g: total_mph(g.iloc[-1], g.iloc[0]))"
   ]
  },
  {
   "cell_type": "code",
   "execution_count": 123,
   "metadata": {
    "collapsed": false
   },
   "outputs": [
    {
     "data": {
      "text/plain": [
       "<matplotlib.legend.Legend at 0x7fba3d56f390>"
      ]
     },
     "execution_count": 123,
     "metadata": {},
     "output_type": "execute_result"
    },
    {
     "data": {
      "image/png": "[encoded data removed]",
      "text/plain": [
       "<matplotlib.figure.Figure at 0x7fba60b608d0>"
      ]
     },
     "metadata": {},
     "output_type": "display_data"
    }
   ],
   "source": [
    "ax = overall_speeds_reg.hist(figsize=(16,9), label=\"M15\", normed=True)\n",
    "ax = overall_speeds_sbs.hist(ax=ax, alpha=.6, label=\"M15 SBS\", normed=True)\n",
    "ax.set_ylabel(\"% of trips\", fontsize=26)\n",
    "ax.set_xlabel(\"Overall trip mph\", fontsize=26)\n",
    "ax.set_title(\"Overall speed comparison\", fontsize=32)\n",
    "ax.legend(fontsize=20)"
   ]
  },
  {
   "cell_type": "markdown",
   "metadata": {},
   "source": [
    "## Significance tests"
   ]
  },
  {
   "cell_type": "code",
   "execution_count": 124,
   "metadata": {
    "collapsed": false
   },
   "outputs": [
    {
     "name": "stdout",
     "output_type": "stream",
     "text": [
      "regular mean: 5.70674729258\n",
      "SBS mean: 6.76213080967\n",
      "P-value: 0.0\n"
     ]
    }
   ],
   "source": [
    "import scipy.stats as sps\n",
    "print \"regular mean: {}\".format(overall_speeds_reg.mean())\n",
    "print \"SBS mean: {}\".format(overall_speeds_sbs.mean())\n",
    "print \"P-value: {}\".format(sps.ttest_ind(overall_speeds_reg, overall_speeds_sbs, equal_var=False).pvalue)"
   ]
  },
  {
   "cell_type": "markdown",
   "metadata": {},
   "source": [
    "## Further analysis\n",
    "### Look at northbound / southbound trips"
   ]
  },
  {
   "cell_type": "code",
   "execution_count": 130,
   "metadata": {
    "collapsed": false
   },
   "outputs": [
    {
     "name": "stdout",
     "output_type": "stream",
     "text": [
      "northbound mean: 6.38731956615\n",
      "southbound mean: 5.05303059497\n",
      "P-value: 3.88143931857e-220\n"
     ]
    },
    {
     "data": {
      "image/png": "[encoded data removed]",
      "text/plain": [
       "<matplotlib.figure.Figure at 0x7fba60d6ee50>"
      ]
     },
     "metadata": {},
     "output_type": "display_data"
    }
   ],
   "source": [
    "overall_speeds_reg_s = overall_speeds_reg.loc[:, :, 0, :]\n",
    "overall_speeds_reg_n = overall_speeds_reg.loc[:, :, 1, :]\n",
    "overall_speeds_sbs_n = overall_speeds_sbs.loc[:, :, 1, :]\n",
    "overall_speeds_sbs_s = overall_speeds_sbs.loc[:, :, 0, :]\n",
    "\n",
    "ax = overall_speeds_reg_n.hist(figsize=(16,9), label=\"M15 Northbound\", normed=True)\n",
    "ax = overall_speeds_reg_s.hist(ax=ax, alpha=.6, label=\"M15 Southbound\", normed=True)\n",
    "ax.set_ylabel(\"% of trips\", fontsize=26)\n",
    "ax.set_xlabel(\"Overall trip mph\", fontsize=26)\n",
    "ax.set_title(\"Overall speed comparison\", fontsize=32)\n",
    "ax.legend(fontsize=20)\n",
    "\n",
    "print \"northbound mean: {}\".format(overall_speeds_reg_n.mean())\n",
    "print \"southbound mean: {}\".format(overall_speeds_reg_s.mean())\n",
    "print \"P-value: {}\".format(sps.ttest_ind(overall_speeds_reg_n, overall_speeds_reg_s, equal_var=False).pvalue)"
   ]
  },
  {
   "cell_type": "code",
   "execution_count": 131,
   "metadata": {
    "collapsed": false
   },
   "outputs": [
    {
     "name": "stdout",
     "output_type": "stream",
     "text": [
      "northbound mean: 7.26750837232\n",
      "southbound mean: 6.26094542064\n",
      "P-value: 3.88203344966e-218\n"
     ]
    },
    {
     "data": {
      "image/png": "[encoded data removed]",
      "text/plain": [
       "<matplotlib.figure.Figure at 0x7fba6031c050>"
      ]
     },
     "metadata": {},
     "output_type": "display_data"
    }
   ],
   "source": [
    "ax = overall_speeds_sbs_n.hist(figsize=(16,9), label=\"M15 SBS Northbound\", normed=True)\n",
    "ax = overall_speeds_sbs_s.hist(ax=ax, alpha=.6, label=\"M15 SBS Southbound\", normed=True)\n",
    "ax.set_ylabel(\"% of trips\", fontsize=26)\n",
    "ax.set_xlabel(\"Overall trip mph\", fontsize=26)\n",
    "ax.set_title(\"Overall speed comparison\", fontsize=32)\n",
    "ax.legend(fontsize=20)\n",
    "\n",
    "print \"northbound mean: {}\".format(overall_speeds_sbs_n.mean())\n",
    "print \"southbound mean: {}\".format(overall_speeds_sbs_s.mean())\n",
    "print \"P-value: {}\".format(sps.ttest_ind(overall_speeds_sbs_n, overall_speeds_sbs_s, equal_var=False).pvalue)"
   ]
  },
  {
   "cell_type": "markdown",
   "metadata": {},
   "source": [
    "## Look at hour of trip departure"
   ]
  },
  {
   "cell_type": "code",
   "execution_count": 135,
   "metadata": {
    "collapsed": false
   },
   "outputs": [],
   "source": [
    "start_hours_m15 = final_intervals_m15.groupby([\"day\", \"trip_id\", \"direction\", \"vehicle\"]).apply(lambda g: g.iloc[0].depart_timestamp.hour)\n",
    "start_hours_sbs = final_intervals_m15sbs.groupby([\"day\", \"trip_id\", \"direction\", \"vehicle\"]).apply(lambda g: g.iloc[0].depart_timestamp.hour)"
   ]
  },
  {
   "cell_type": "code",
   "execution_count": 149,
   "metadata": {
    "collapsed": false
   },
   "outputs": [],
   "source": [
    "overall_speeds_reg_hours = start_hours_m15.to_frame().join(overall_speeds_reg.to_frame(), lsuffix=\"h_\")\n",
    "overall_speeds_sbs_hours = start_hours_sbs.to_frame().join(overall_speeds_sbs.to_frame(), lsuffix=\"h_\")\n",
    "overall_speeds_reg_hours.columns = [\"Hour of Day\", \"M15 Speed\"]\n",
    "overall_speeds_sbs_hours.columns = [\"Hour of Day\", \"M15 SBS Speed\"]"
   ]
  },
  {
   "cell_type": "code",
   "execution_count": 157,
   "metadata": {
    "collapsed": false
   },
   "outputs": [
    {
     "data": {
      "text/plain": [
       "Text(0.5,1,u'Average Trip Speed by hour of day')"
      ]
     },
     "execution_count": 157,
     "metadata": {},
     "output_type": "execute_result"
    },
    {
     "data": {
      "image/png": "[encoded data removed]",
      "text/plain": [
       "<matplotlib.figure.Figure at 0x7fba3d72db90>"
      ]
     },
     "metadata": {},
     "output_type": "display_data"
    }
   ],
   "source": [
    "ax = overall_speeds_reg_hours.groupby(\"Hour of Day\").mean().plot(figsize=(16, 9), linewidth=4)\n",
    "overall_speeds_sbs_hours.groupby(\"Hour of Day\").mean().plot(ax=ax, linewidth=4)\n",
    "ax.legend(fontsize=26)\n",
    "ax.set_xlabel(\"Hour of Day (24h format)\", fontsize=26)\n",
    "ax.set_ylabel(\"Average Trip Speed (mph)\", fontsize=26)\n",
    "ax.set_title(\"Average Trip Speed by hour of day\", fontsize=26)"
   ]
  },
  {
   "cell_type": "code",
   "execution_count": 189,
   "metadata": {
    "collapsed": false
   },
   "outputs": [
    {
     "name": "stdout",
     "output_type": "stream",
     "text": [
      "regular speed at hour 3: 8.27759363783\n",
      "SBS speed at hour 3: 10.0809254732\n",
      "p-value: 2.29342369348e-15\n",
      "===================\n",
      "regular speed at hour 4: 7.41594164061\n",
      "SBS speed at hour 4: 8.85486176532\n",
      "p-value: 5.10919438787e-36\n",
      "===================\n",
      "regular speed at hour 5: 6.08351473331\n",
      "SBS speed at hour 5: 7.80086179888\n",
      "p-value: 5.58504954953e-92\n",
      "===================\n",
      "regular speed at hour 6: 5.04471187182\n",
      "SBS speed at hour 6: 6.46904395423\n",
      "p-value: 2.47711484946e-82\n",
      "===================\n",
      "regular speed at hour 7: 4.9087929059\n",
      "SBS speed at hour 7: 6.74157374042\n",
      "p-value: 1.54021728642e-83\n",
      "===================\n",
      "regular speed at hour 8: 4.84937168146\n",
      "SBS speed at hour 8: 6.7663831205\n",
      "p-value: 2.70314456305e-96\n",
      "===================\n",
      "regular speed at hour 9: 4.83390092269\n",
      "SBS speed at hour 9: 6.32796778093\n",
      "p-value: 1.59532097357e-78\n",
      "===================\n",
      "regular speed at hour 10: 4.59810246088\n",
      "SBS speed at hour 10: 6.18581201051\n",
      "p-value: 8.81073617563e-80\n",
      "===================\n",
      "regular speed at hour 11: 4.51433369931\n",
      "SBS speed at hour 11: 6.10471391579\n",
      "p-value: 1.46512750405e-89\n",
      "===================\n",
      "regular speed at hour 12: 4.47092612193\n",
      "SBS speed at hour 12: 6.08434298026\n",
      "p-value: 1.73237801552e-90\n",
      "===================\n",
      "regular speed at hour 13: 4.45334051871\n",
      "SBS speed at hour 13: 5.99320791557\n",
      "p-value: 6.40334660705e-97\n",
      "===================\n",
      "regular speed at hour 14: 4.44650315504\n",
      "SBS speed at hour 14: 5.97475327262\n",
      "p-value: 9.12523048536e-113\n",
      "===================\n",
      "regular speed at hour 15: 4.59061379626\n",
      "SBS speed at hour 15: 6.05516319049\n",
      "p-value: 5.45959911044e-104\n",
      "===================\n",
      "regular speed at hour 16: 4.86485023422\n",
      "SBS speed at hour 16: 6.43997567\n",
      "p-value: 1.31394069652e-88\n",
      "===================\n",
      "regular speed at hour 17: 5.20108402807\n",
      "SBS speed at hour 17: 6.92815962659\n",
      "p-value: 1.24141202005e-105\n",
      "===================\n",
      "regular speed at hour 18: 5.82229898441\n",
      "SBS speed at hour 18: 7.59955593511\n",
      "p-value: 3.93009271867e-52\n",
      "===================\n",
      "regular speed at hour 19: 5.46525438583\n",
      "SBS speed at hour 19: 6.92308001628\n",
      "p-value: 2.61958273998e-47\n",
      "===================\n",
      "regular speed at hour 20: 6.16424146385\n",
      "SBS speed at hour 20: 8.20975740047\n",
      "p-value: 4.75813533431e-69\n",
      "===================\n",
      "regular speed at hour 21: 6.73509973937\n",
      "SBS speed at hour 21: 9.09499985277\n",
      "p-value: 6.67599042447e-41\n",
      "===================\n",
      "regular speed at hour 22: 7.33923960022\n",
      "SBS speed at hour 22: 9.83649545021\n",
      "p-value: 1.12061098376e-14\n",
      "===================\n"
     ]
    }
   ],
   "source": [
    "from itertools import izip\n",
    "overall_speeds_reg_hours.sort_values(\"Hour of Day\", inplace=True)\n",
    "overall_speeds_sbs_hours.sort_values(\"Hour of Day\", inplace=True)\n",
    "\n",
    "for (ix, reg_group), (ix2, sbs_group) in izip(overall_speeds_reg_hours[(overall_speeds_reg_hours[\"Hour of Day\"] > 2) & (overall_speeds_reg_hours[\"Hour of Day\"] < 23)].groupby(\"Hour of Day\"), overall_speeds_sbs_hours.groupby(\"Hour of Day\")):\n",
    "    reg_speed =  reg_group[\"M15 Speed\"]\n",
    "    sbs_speed = sbs_group[\"M15 SBS Speed\"]\n",
    "    if ix == 23:\n",
    "        r = reg_speed\n",
    "        s = sbs_speed\n",
    "        break\n",
    "    print \"regular speed at hour {}: {}\".format(ix, reg_speed.mean())\n",
    "    print \"SBS speed at hour {}: {}\".format(ix2, sbs_speed.mean())\n",
    "    print \"p-value: {}\".format(sps.ttest_ind(reg_speed, sbs_speed, equal_var=False).pvalue)\n",
    "    print \"===================\"\n",
    "    "
   ]
  },
  {
   "cell_type": "markdown",
   "metadata": {},
   "source": [
    "## This concludes our analysis"
   ]
  },
  {
   "cell_type": "code",
   "execution_count": null,
   "metadata": {
    "collapsed": true
   },
   "outputs": [],
   "source": []
  }
 ],
 "metadata": {
  "kernelspec": {
   "display_name": "Python 2",
   "language": "python",
   "name": "python2"
  },
  "language_info": {
   "codemirror_mode": {
    "name": "ipython",
    "version": 2
   },
   "file_extension": ".py",
   "mimetype": "text/x-python",
   "name": "python",
   "nbconvert_exporter": "python",
   "pygments_lexer": "ipython2",
   "version": "2.7.12"
  }
 },
 "nbformat": 4,
 "nbformat_minor": 2
}
