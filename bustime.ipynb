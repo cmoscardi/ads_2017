{
 "cells": [
  {
   "cell_type": "code",
   "execution_count": 1,
   "metadata": {
    "collapsed": true
   },
   "outputs": [],
   "source": [
    "%matplotlib inline\n",
    "import matplotlib\n",
    "import seaborn as sns\n",
    "matplotlib.rcParams['savefig.dpi'] = 2 * matplotlib.rcParams['savefig.dpi']"
   ]
  },
  {
   "cell_type": "code",
   "execution_count": null,
   "metadata": {
    "collapsed": false
   },
   "outputs": [],
   "source": [
    "# data\n",
    "# http://data.beta.nyc/dataset/unofficial-mta-transit-data-archive\n",
    "\n",
    "# documentation \n",
    "# http://bustime.mta.info/wiki/Developers/ArchiveData\n",
    "\n",
    "#gtfs spec\n",
    "# https://developers.google.com/transit/gtfs/reference\n",
    "!wget -nc http://data.mytransit.nyc.s3.amazonaws.com/bus_time/2015/2015-01/bus_time_20150128.csv.xz\n",
    "!7z -y x bus_time_20150128.csv.xz\n",
    "!wget -nc http://data.mytransit.nyc.s3.amazonaws.com/bus_time/2015/2015-01/bus_time_20150129.csv.xz\n",
    "!7z -y x bus_time_20150129.csv.xz\n",
    "\n",
    "!wget -nc http://data.mytransit.nyc.s3.amazonaws.com/gtfs/2015/gtfs_nyct_bus_20150103.zip\n",
    "!unzip -o gtfs_nyct_bus_20150103.zip"
   ]
  },
  {
   "cell_type": "code",
   "execution_count": 2,
   "metadata": {
    "collapsed": false
   },
   "outputs": [
    {
     "name": "stderr",
     "output_type": "stream",
     "text": [
      "/opt/conda/lib/python2.7/site-packages/pandas/io/parsers.py:1170: DtypeWarning: Columns (9,10,11) have mixed types. Specify dtype option on import or set low_memory=False.\n",
      "  data = self._reader.read(nrows)\n"
     ]
    }
   ],
   "source": [
    "#ETL\n",
    "import pandas as pd\n",
    "import numpy as np\n",
    "from datetime import timedelta, datetime\n",
    "\n",
    "\n",
    "def convert_to_int64(row):\n",
    "    try:\n",
    "        return np.int64(row)\n",
    "    except ValueError:\n",
    "        return np.nan\n",
    "\n",
    "def utc_to_est(row):\n",
    "    try:\n",
    "        return row - timedelta(hours=5)\n",
    "    except:\n",
    "        raise\n",
    "\n",
    "csv_f = pd.read_csv\n",
    "archive = pd.concat([csv_f(\"bus_time_20150128.csv\"),\n",
    "                     csv_f(\"bus_time_20150129.csv\")])\n",
    "\n",
    "trips = pd.read_csv(\"trips.txt\")\n",
    "stops = pd.read_csv(\"stops.txt\")\n",
    "schedules = pd.read_csv(\"stop_times.txt\")\n",
    "schedules.departure_time = pd.to_datetime(schedules.departure_time)\n",
    "archive.timestamp = pd.to_datetime(archive.timestamp).apply(utc_to_est)\n",
    "archive.next_stop_id = archive.next_stop_id.apply(convert_to_int64)"
   ]
  },
  {
   "cell_type": "code",
   "execution_count": 3,
   "metadata": {
    "collapsed": false,
    "scrolled": true
   },
   "outputs": [],
   "source": [
    "#query and clean\n",
    "live_archive = archive[archive.block_assigned > 0] # \"assigned\" to a route\n",
    "today = live_archive[live_archive.service_date == 20150128] # due to time shift we get some dates in 1/27 and 1/29\n",
    "#throw away trips with <15 reports\n",
    "good_trips_only = today.groupby(today.trip_id).filter(lambda group: len(group) > 15)\n",
    "\n",
    "#write this as our \"clean\" dataset\n",
    "good_trips_only.to_csv(\"realtime.csv\")\n",
    "\n",
    "#merged dataframe with both \n",
    "partial = good_trips_only.merge(trips, on='trip_id') \n",
    "df = partial.merge(stops, left_on=\"next_stop_id\", right_on=\"stop_id\")"
   ]
  }
 ],
 "metadata": {
  "kernelspec": {
   "display_name": "Python 2",
   "language": "python",
   "name": "python2"
  },
  "language_info": {
   "codemirror_mode": {
    "name": "ipython",
    "version": 2
   },
   "file_extension": ".py",
   "mimetype": "text/x-python",
   "name": "python",
   "nbconvert_exporter": "python",
   "pygments_lexer": "ipython2",
   "version": "2.7.12"
  }
 },
 "nbformat": 4,
 "nbformat_minor": 0
}
