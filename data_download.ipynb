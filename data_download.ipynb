{
 "cells": [
  {
   "cell_type": "markdown",
   "metadata": {},
   "source": [
    "# Data Download & Processing\n",
    "\n",
    "The objective of this script is to create a common dataset for our analysis. It includes the following functions:\n",
    "- download MTA bus data from May 1 to 31, 2017\n",
    "- process data in each file \n",
    "- select only M15 and M15 SBS buses\n",
    "- concatenate daily dataset into one consolidated dataset"
   ]
  },
  {
   "cell_type": "markdown",
   "metadata": {},
   "source": [
    "---\n",
    "\n",
    "# Download MTA Bus Data\n",
    "\n",
    "- Download\n",
    "- Unzip\n",
    "- Remove zipped files"
   ]
  },
  {
   "cell_type": "code",
   "execution_count": 58,
   "metadata": {},
   "outputs": [
    {
     "data": {
      "text/plain": [
       "'\\nfor i in range(1, 32):\\n    \\n    if i < 10: \\n        file = \\'bus_time_2017050\\' + str(i) + \\'.csv.xz\\'\\n    else: \\n        file = \\'bus_time_201705\\' + str(i) + \\'.csv.xz\\'\\n    \\n    url = \\'http://data.mytransit.nyc.s3.amazonaws.com/bus_time/2017/2017-05/\\' + file \\n    \\n    print(\"--- Downloading MTA Bus Data of May %i, 2017 ---\" %i)\\n    !wget -nc $url -P \\'./download\\'\\n    \\n    print(\"--- Unzipping MTA Bus Data of May %i, 2017 ---\" %i)\\n    path = \"./download/\" + file\\n    !7za e $path -o./data\\n'"
      ]
     },
     "execution_count": 58,
     "metadata": {},
     "output_type": "execute_result"
    }
   ],
   "source": [
    "# Download Bus Time for all May, 2017\n",
    "# Only do it at set up\n",
    "\n",
    "'''\n",
    "for i in range(1, 32):\n",
    "    \n",
    "    if i < 10: \n",
    "        file = 'bus_time_2017050' + str(i) + '.csv.xz'\n",
    "    else: \n",
    "        file = 'bus_time_201705' + str(i) + '.csv.xz'\n",
    "    \n",
    "    url = 'http://data.mytransit.nyc.s3.amazonaws.com/bus_time/2017/2017-05/' + file \n",
    "    \n",
    "    print(\"--- Downloading MTA Bus Data of May %i, 2017 ---\" %i)\n",
    "    !wget -nc $url -P './download'\n",
    "    \n",
    "    print(\"--- Unzipping MTA Bus Data of May %i, 2017 ---\" %i)\n",
    "    path = \"./download/\" + file\n",
    "    !7za e $path -o./data\n",
    "'''"
   ]
  },
  {
   "cell_type": "code",
   "execution_count": 59,
   "metadata": {},
   "outputs": [
    {
     "data": {
      "text/plain": [
       "\"file = 'http://data.mytransit.nyc.s3.amazonaws.com/gtfs/2015/gtfs_nyct_bus_20150103.zip'\\n!wget -nc $file -P './download'\\n\""
      ]
     },
     "execution_count": 59,
     "metadata": {},
     "output_type": "execute_result"
    }
   ],
   "source": [
    "'''file = 'http://data.mytransit.nyc.s3.amazonaws.com/gtfs/2015/gtfs_nyct_bus_20150103.zip'\n",
    "!wget -nc $file -P './download'\n",
    "'''"
   ]
  },
  {
   "cell_type": "code",
   "execution_count": 60,
   "metadata": {
    "scrolled": true
   },
   "outputs": [
    {
     "data": {
      "text/plain": [
       "\"\\n\\npath = './download/gtfs_nyct_bus_20150103.zip'\\n!7za e $path -o./data\\n\\n\""
      ]
     },
     "execution_count": 60,
     "metadata": {},
     "output_type": "execute_result"
    }
   ],
   "source": [
    "'''\n",
    "\n",
    "path = './download/gtfs_nyct_bus_20150103.zip'\n",
    "!7za e $path -o./data\n",
    "\n",
    "'''"
   ]
  },
  {
   "cell_type": "markdown",
   "metadata": {},
   "source": [
    "---"
   ]
  },
  {
   "cell_type": "code",
   "execution_count": 24,
   "metadata": {},
   "outputs": [],
   "source": [
    "import pandas as pd\n",
    "import numpy as np"
   ]
  },
  {
   "cell_type": "code",
   "execution_count": null,
   "metadata": {},
   "outputs": [],
   "source": [
    "df = pd.DataFrame()\n",
    "total_df = pd.DataFrame()"
   ]
  },
  {
   "cell_type": "code",
   "execution_count": 45,
   "metadata": {},
   "outputs": [],
   "source": [
    "trips = pd.read_csv(\"./data/trips.txt\")\n",
    "stops = pd.read_csv(\"./data/stops.txt\")\n",
    "schedules = pd.read_csv(\"./data/stop_times.txt\")"
   ]
  },
  {
   "cell_type": "markdown",
   "metadata": {},
   "source": [
    "### Process and Concatenate 3 Days of Bus Data for Testing"
   ]
  },
  {
   "cell_type": "code",
   "execution_count": 53,
   "metadata": {},
   "outputs": [
    {
     "name": "stdout",
     "output_type": "stream",
     "text": [
      " --- Processing ./data/bus_time_20170501.csv ---\n"
     ]
    },
    {
     "name": "stderr",
     "output_type": "stream",
     "text": [
      "/opt/rh/anaconda/root/envs/PUI2016_Python3/lib/python3.5/site-packages/IPython/core/interactiveshell.py:2717: DtypeWarning: Columns (9,10,11) have mixed types. Specify dtype option on import or set low_memory=False.\n",
      "  interactivity=interactivity, compiler=compiler, result=result)\n"
     ]
    },
    {
     "name": "stdout",
     "output_type": "stream",
     "text": [
      " --- Done (1/3) ---\n",
      " --- Done (2/3) --- \n",
      " --- Done (3/3) --- \n",
      " --- Processing ./data/bus_time_20170502.csv ---\n",
      " --- Done (1/3) ---\n",
      " --- Done (2/3) --- \n",
      " --- Done (3/3) --- \n",
      " --- Processing ./data/bus_time_20170503.csv ---\n",
      " --- Done (1/3) ---\n",
      " --- Done (2/3) --- \n",
      " --- Done (3/3) --- \n"
     ]
    }
   ],
   "source": [
    "for i in range(1, 4):\n",
    "    try:\n",
    "        if i < 10: \n",
    "            file = './data/bus_time_2017050' + str(i) + '.csv'\n",
    "        else: \n",
    "            file = './data/bus_time_201705' + str(i) + '.csv'\n",
    "\n",
    "        # ingest into a data frame\n",
    "        print(\" --- Processing %s ---\" %file)\n",
    "        df = pd.read_csv(file)\n",
    "\n",
    "        # convert timestamp to DateTime\n",
    "        df['timestamp'] = pd.to_datetime(df['timestamp'], infer_datetime_format = True)\n",
    "        df['Day'] = df['timestamp'].apply(lambda x: x.day)\n",
    "        df['Hour'] =df['timestamp'].apply(lambda x: x.hour)\n",
    "        df['DOW'] = df['timestamp'].dt.dayofweek\n",
    "\n",
    "        days = {0:'Mon',1:'Tues',2:'Weds',3:'Thurs',4:'Fri',5:'Sat',6:'Sun'}\n",
    "        df['DOW_Label'] = df['DOW'].apply(lambda x: days[x])\n",
    "        \n",
    "        print(\" --- Done (1/3) ---\")\n",
    "        \n",
    "        #throw away trips with <15 reports\n",
    "        good_trips_only = df.groupby(df.trip_id).filter(lambda group: len(group) > 15)\n",
    "        \n",
    "        print(\" --- Done (2/3) --- \")\n",
    "        \n",
    "        #concatenate \n",
    "    \n",
    "        total_df = pd.concat([total_df, df])\n",
    "        \n",
    "        print(\" --- Done (3/3) --- \")\n",
    "        \n",
    "    except Exception as ex:\n",
    "        print(ex)\n",
    "        pass"
   ]
  },
  {
   "cell_type": "code",
   "execution_count": 61,
   "metadata": {},
   "outputs": [
    {
     "data": {
      "text/plain": [
       "(12661727, 16)"
      ]
     },
     "execution_count": 61,
     "metadata": {},
     "output_type": "execute_result"
    }
   ],
   "source": [
    "total_df.shape"
   ]
  },
  {
   "cell_type": "code",
   "execution_count": 55,
   "metadata": {},
   "outputs": [],
   "source": [
    "join_df = total_df.merge(trips, on='trip_id')"
   ]
  },
  {
   "cell_type": "code",
   "execution_count": 56,
   "metadata": {
    "scrolled": true
   },
   "outputs": [
    {
     "data": {
      "text/plain": [
       "(0, 21)"
      ]
     },
     "execution_count": 56,
     "metadata": {},
     "output_type": "execute_result"
    }
   ],
   "source": [
    "join_df.shape"
   ]
  },
  {
   "cell_type": "code",
   "execution_count": 57,
   "metadata": {},
   "outputs": [
    {
     "data": {
      "text/html": [
       "<div>\n",
       "<table border=\"1\" class=\"dataframe\">\n",
       "  <thead>\n",
       "    <tr style=\"text-align: right;\">\n",
       "      <th></th>\n",
       "      <th>DOW</th>\n",
       "      <th>DOW_Label</th>\n",
       "      <th>Day</th>\n",
       "      <th>Hour</th>\n",
       "      <th>bearing</th>\n",
       "      <th>block_assigned</th>\n",
       "      <th>dist_along_route</th>\n",
       "      <th>dist_from_stop</th>\n",
       "      <th>latitude</th>\n",
       "      <th>longitude</th>\n",
       "      <th>next_stop_id</th>\n",
       "      <th>progress</th>\n",
       "      <th>service_date</th>\n",
       "      <th>timestamp</th>\n",
       "      <th>trip_id</th>\n",
       "      <th>vehicle_id</th>\n",
       "    </tr>\n",
       "  </thead>\n",
       "  <tbody>\n",
       "    <tr>\n",
       "      <th>247331</th>\n",
       "      <td>NaN</td>\n",
       "      <td>NaN</td>\n",
       "      <td>1</td>\n",
       "      <td>2</td>\n",
       "      <td>16.77</td>\n",
       "      <td>1</td>\n",
       "      <td>10856.32</td>\n",
       "      <td>176.94</td>\n",
       "      <td>40.735352</td>\n",
       "      <td>-73.865199</td>\n",
       "      <td>551310</td>\n",
       "      <td>0</td>\n",
       "      <td>20170430</td>\n",
       "      <td>2017-05-01 02:44:05</td>\n",
       "      <td>15377665-CPPB7-CP_B7-Sunday-10</td>\n",
       "      <td>630</td>\n",
       "    </tr>\n",
       "    <tr>\n",
       "      <th>623844</th>\n",
       "      <td>1.0</td>\n",
       "      <td>Tues</td>\n",
       "      <td>2</td>\n",
       "      <td>9</td>\n",
       "      <td>30.38</td>\n",
       "      <td>1</td>\n",
       "      <td>9324.49</td>\n",
       "      <td>89.99</td>\n",
       "      <td>40.761835</td>\n",
       "      <td>-73.866824</td>\n",
       "      <td>550934</td>\n",
       "      <td>0</td>\n",
       "      <td>20170502</td>\n",
       "      <td>2017-05-02 09:24:41</td>\n",
       "      <td>15370910-CPPB7-CP_B7-Weekday-10-SDon</td>\n",
       "      <td>649</td>\n",
       "    </tr>\n",
       "    <tr>\n",
       "      <th>1007725</th>\n",
       "      <td>2.0</td>\n",
       "      <td>Weds</td>\n",
       "      <td>3</td>\n",
       "      <td>11</td>\n",
       "      <td>115.12</td>\n",
       "      <td>1</td>\n",
       "      <td>587.77</td>\n",
       "      <td>97.43</td>\n",
       "      <td>40.710359</td>\n",
       "      <td>-73.870513</td>\n",
       "      <td>551067</td>\n",
       "      <td>0</td>\n",
       "      <td>20170503</td>\n",
       "      <td>2017-05-03 11:47:08</td>\n",
       "      <td>15387347-LGPB7-LG_B7-Weekday-10-SDon</td>\n",
       "      <td>3595</td>\n",
       "    </tr>\n",
       "    <tr>\n",
       "      <th>2691248</th>\n",
       "      <td>NaN</td>\n",
       "      <td>NaN</td>\n",
       "      <td>1</td>\n",
       "      <td>21</td>\n",
       "      <td>233.70</td>\n",
       "      <td>1</td>\n",
       "      <td>2809.96</td>\n",
       "      <td>177.24</td>\n",
       "      <td>40.754639</td>\n",
       "      <td>-73.980040</td>\n",
       "      <td>403257</td>\n",
       "      <td>0</td>\n",
       "      <td>20170501</td>\n",
       "      <td>2017-05-01 21:29:59</td>\n",
       "      <td>MA_B7-Weekday-SDon-102500_X30_607</td>\n",
       "      <td>2410</td>\n",
       "    </tr>\n",
       "    <tr>\n",
       "      <th>520752</th>\n",
       "      <td>1.0</td>\n",
       "      <td>Tues</td>\n",
       "      <td>2</td>\n",
       "      <td>6</td>\n",
       "      <td>230.27</td>\n",
       "      <td>1</td>\n",
       "      <td>8462.02</td>\n",
       "      <td>9.99</td>\n",
       "      <td>40.705276</td>\n",
       "      <td>-74.013779</td>\n",
       "      <td>404190</td>\n",
       "      <td>0</td>\n",
       "      <td>20170502</td>\n",
       "      <td>2017-05-02 06:01:04</td>\n",
       "      <td>YU_B7-Weekday-SDon-009000_X109_1</td>\n",
       "      <td>2670</td>\n",
       "    </tr>\n",
       "    <tr>\n",
       "      <th>2457513</th>\n",
       "      <td>2.0</td>\n",
       "      <td>Weds</td>\n",
       "      <td>3</td>\n",
       "      <td>20</td>\n",
       "      <td>341.31</td>\n",
       "      <td>1</td>\n",
       "      <td>1416.78</td>\n",
       "      <td>214.43</td>\n",
       "      <td>40.814124</td>\n",
       "      <td>-73.912526</td>\n",
       "      <td>101314</td>\n",
       "      <td>0</td>\n",
       "      <td>20170503</td>\n",
       "      <td>2017-05-03 20:02:12</td>\n",
       "      <td>WF_B7-Weekday-SDon-094500_BX17_123</td>\n",
       "      <td>7738</td>\n",
       "    </tr>\n",
       "    <tr>\n",
       "      <th>3051109</th>\n",
       "      <td>2.0</td>\n",
       "      <td>Weds</td>\n",
       "      <td>3</td>\n",
       "      <td>22</td>\n",
       "      <td>303.13</td>\n",
       "      <td>1</td>\n",
       "      <td>4334.39</td>\n",
       "      <td>502.23</td>\n",
       "      <td>40.684795</td>\n",
       "      <td>-73.792761</td>\n",
       "      <td>550052</td>\n",
       "      <td>0</td>\n",
       "      <td>20170503</td>\n",
       "      <td>2017-05-03 22:53:48</td>\n",
       "      <td>15355458-JKPB7-JK_B7-Weekday-10-SDon</td>\n",
       "      <td>3690</td>\n",
       "    </tr>\n",
       "    <tr>\n",
       "      <th>2243455</th>\n",
       "      <td>2.0</td>\n",
       "      <td>Weds</td>\n",
       "      <td>3</td>\n",
       "      <td>18</td>\n",
       "      <td>352.65</td>\n",
       "      <td>1</td>\n",
       "      <td>2870.98</td>\n",
       "      <td>301.48</td>\n",
       "      <td>40.626505</td>\n",
       "      <td>-74.160305</td>\n",
       "      <td>203537</td>\n",
       "      <td>0</td>\n",
       "      <td>20170503</td>\n",
       "      <td>2017-05-03 18:54:30</td>\n",
       "      <td>CA_B7-Weekday-SDon-087600_MISC_491</td>\n",
       "      <td>7003</td>\n",
       "    </tr>\n",
       "    <tr>\n",
       "      <th>2487567</th>\n",
       "      <td>NaN</td>\n",
       "      <td>NaN</td>\n",
       "      <td>1</td>\n",
       "      <td>20</td>\n",
       "      <td>201.20</td>\n",
       "      <td>1</td>\n",
       "      <td>567.44</td>\n",
       "      <td>5.08</td>\n",
       "      <td>40.704478</td>\n",
       "      <td>-73.797531</td>\n",
       "      <td>553159</td>\n",
       "      <td>0</td>\n",
       "      <td>20170501</td>\n",
       "      <td>2017-05-01 20:37:23</td>\n",
       "      <td>15355065-JKPB7-JK_B7-Weekday-10-SDon</td>\n",
       "      <td>4635</td>\n",
       "    </tr>\n",
       "    <tr>\n",
       "      <th>1774272</th>\n",
       "      <td>1.0</td>\n",
       "      <td>Tues</td>\n",
       "      <td>2</td>\n",
       "      <td>16</td>\n",
       "      <td>6.13</td>\n",
       "      <td>1</td>\n",
       "      <td>4495.32</td>\n",
       "      <td>14.35</td>\n",
       "      <td>40.599936</td>\n",
       "      <td>-73.946378</td>\n",
       "      <td>300206</td>\n",
       "      <td>0</td>\n",
       "      <td>20170502</td>\n",
       "      <td>2017-05-02 16:50:30</td>\n",
       "      <td>UP_B7-Weekday-SDon-074100_X2737_707</td>\n",
       "      <td>4870</td>\n",
       "    </tr>\n",
       "  </tbody>\n",
       "</table>\n",
       "</div>"
      ],
      "text/plain": [
       "         DOW DOW_Label  Day  Hour  bearing  block_assigned dist_along_route  \\\n",
       "247331   NaN       NaN    1     2    16.77               1         10856.32   \n",
       "623844   1.0      Tues    2     9    30.38               1          9324.49   \n",
       "1007725  2.0      Weds    3    11   115.12               1           587.77   \n",
       "2691248  NaN       NaN    1    21   233.70               1          2809.96   \n",
       "520752   1.0      Tues    2     6   230.27               1          8462.02   \n",
       "2457513  2.0      Weds    3    20   341.31               1          1416.78   \n",
       "3051109  2.0      Weds    3    22   303.13               1          4334.39   \n",
       "2243455  2.0      Weds    3    18   352.65               1          2870.98   \n",
       "2487567  NaN       NaN    1    20   201.20               1           567.44   \n",
       "1774272  1.0      Tues    2    16     6.13               1          4495.32   \n",
       "\n",
       "        dist_from_stop   latitude  longitude next_stop_id  progress  \\\n",
       "247331          176.94  40.735352 -73.865199       551310         0   \n",
       "623844           89.99  40.761835 -73.866824       550934         0   \n",
       "1007725          97.43  40.710359 -73.870513       551067         0   \n",
       "2691248         177.24  40.754639 -73.980040       403257         0   \n",
       "520752            9.99  40.705276 -74.013779       404190         0   \n",
       "2457513         214.43  40.814124 -73.912526       101314         0   \n",
       "3051109         502.23  40.684795 -73.792761       550052         0   \n",
       "2243455         301.48  40.626505 -74.160305       203537         0   \n",
       "2487567           5.08  40.704478 -73.797531       553159         0   \n",
       "1774272          14.35  40.599936 -73.946378       300206         0   \n",
       "\n",
       "         service_date           timestamp  \\\n",
       "247331       20170430 2017-05-01 02:44:05   \n",
       "623844       20170502 2017-05-02 09:24:41   \n",
       "1007725      20170503 2017-05-03 11:47:08   \n",
       "2691248      20170501 2017-05-01 21:29:59   \n",
       "520752       20170502 2017-05-02 06:01:04   \n",
       "2457513      20170503 2017-05-03 20:02:12   \n",
       "3051109      20170503 2017-05-03 22:53:48   \n",
       "2243455      20170503 2017-05-03 18:54:30   \n",
       "2487567      20170501 2017-05-01 20:37:23   \n",
       "1774272      20170502 2017-05-02 16:50:30   \n",
       "\n",
       "                                      trip_id  vehicle_id  \n",
       "247331         15377665-CPPB7-CP_B7-Sunday-10         630  \n",
       "623844   15370910-CPPB7-CP_B7-Weekday-10-SDon         649  \n",
       "1007725  15387347-LGPB7-LG_B7-Weekday-10-SDon        3595  \n",
       "2691248     MA_B7-Weekday-SDon-102500_X30_607        2410  \n",
       "520752       YU_B7-Weekday-SDon-009000_X109_1        2670  \n",
       "2457513    WF_B7-Weekday-SDon-094500_BX17_123        7738  \n",
       "3051109  15355458-JKPB7-JK_B7-Weekday-10-SDon        3690  \n",
       "2243455    CA_B7-Weekday-SDon-087600_MISC_491        7003  \n",
       "2487567  15355065-JKPB7-JK_B7-Weekday-10-SDon        4635  \n",
       "1774272   UP_B7-Weekday-SDon-074100_X2737_707        4870  "
      ]
     },
     "execution_count": 57,
     "metadata": {},
     "output_type": "execute_result"
    }
   ],
   "source": [
    "total_df.sample(10)"
   ]
  },
  {
   "cell_type": "code",
   "execution_count": 62,
   "metadata": {},
   "outputs": [
    {
     "data": {
      "text/html": [
       "<div>\n",
       "<table border=\"1\" class=\"dataframe\">\n",
       "  <thead>\n",
       "    <tr style=\"text-align: right;\">\n",
       "      <th></th>\n",
       "      <th>route_id</th>\n",
       "      <th>service_id</th>\n",
       "      <th>trip_id</th>\n",
       "      <th>trip_headsign</th>\n",
       "      <th>direction_id</th>\n",
       "      <th>shape_id</th>\n",
       "    </tr>\n",
       "  </thead>\n",
       "  <tbody>\n",
       "    <tr>\n",
       "      <th>63235</th>\n",
       "      <td>B9</td>\n",
       "      <td>JG_A5-Saturday</td>\n",
       "      <td>JG_A5-Saturday-115800_B9_25</td>\n",
       "      <td>BAY RDGE SHORE RD via AVENUE M via 60 ST</td>\n",
       "      <td>1</td>\n",
       "      <td>B90040</td>\n",
       "    </tr>\n",
       "    <tr>\n",
       "      <th>150771</th>\n",
       "      <td>M79</td>\n",
       "      <td>MQ_H5-Weekday</td>\n",
       "      <td>MQ_H5-Weekday-125100_M79_20</td>\n",
       "      <td>WEST SIDE-RIVERSIDE DR CROSSTOWN</td>\n",
       "      <td>1</td>\n",
       "      <td>M790026</td>\n",
       "    </tr>\n",
       "    <tr>\n",
       "      <th>132639</th>\n",
       "      <td>M23</td>\n",
       "      <td>MQ_A5-Sunday</td>\n",
       "      <td>MQ_A5-Sunday-079900_M23_15</td>\n",
       "      <td>EAST SIDE FDR DR CROSSTOWN</td>\n",
       "      <td>0</td>\n",
       "      <td>M230005</td>\n",
       "    </tr>\n",
       "    <tr>\n",
       "      <th>116424</th>\n",
       "      <td>M103</td>\n",
       "      <td>OH_A5-Saturday</td>\n",
       "      <td>OH_A5-Saturday-108700_M101_102</td>\n",
       "      <td>CITY HALL via LEX AV</td>\n",
       "      <td>1</td>\n",
       "      <td>M1030172</td>\n",
       "    </tr>\n",
       "    <tr>\n",
       "      <th>66534</th>\n",
       "      <td>BX11</td>\n",
       "      <td>WF_H5-Weekday</td>\n",
       "      <td>WF_H5-Weekday-146000_BX35_235</td>\n",
       "      <td>WASHINGTON HEIGHTS  G W BRIDGE</td>\n",
       "      <td>1</td>\n",
       "      <td>BX110042</td>\n",
       "    </tr>\n",
       "    <tr>\n",
       "      <th>109491</th>\n",
       "      <td>BX8</td>\n",
       "      <td>WF_A5-Sunday</td>\n",
       "      <td>WF_A5-Sunday-129000_BX8_20</td>\n",
       "      <td>WESTCHESTER SQ</td>\n",
       "      <td>1</td>\n",
       "      <td>BX080082</td>\n",
       "    </tr>\n",
       "    <tr>\n",
       "      <th>175580</th>\n",
       "      <td>Q36</td>\n",
       "      <td>QV_A5-Weekday</td>\n",
       "      <td>QV_A5-Weekday-104500_Q36_5</td>\n",
       "      <td>JAMAICA 165 ST TERM</td>\n",
       "      <td>1</td>\n",
       "      <td>Q360148</td>\n",
       "    </tr>\n",
       "    <tr>\n",
       "      <th>150243</th>\n",
       "      <td>M79</td>\n",
       "      <td>MQ_A5-Weekday</td>\n",
       "      <td>MQ_A5-Weekday-127000_M79_18</td>\n",
       "      <td>YORKVILLE EAST END AV CROSSTOWN</td>\n",
       "      <td>0</td>\n",
       "      <td>M790024</td>\n",
       "    </tr>\n",
       "    <tr>\n",
       "      <th>198611</th>\n",
       "      <td>Q85</td>\n",
       "      <td>JA_A5-Weekday-SDon</td>\n",
       "      <td>JA_A5-Weekday-SDon-120700_MISC_567</td>\n",
       "      <td>JAMAICA PRSNS - ARCHR</td>\n",
       "      <td>1</td>\n",
       "      <td>Q851148</td>\n",
       "    </tr>\n",
       "    <tr>\n",
       "      <th>134690</th>\n",
       "      <td>M2</td>\n",
       "      <td>MV_J5-Weekday</td>\n",
       "      <td>MV_J5-Weekday-142000_M2_143</td>\n",
       "      <td>EAST VILLAGE 8 ST via 5 AV</td>\n",
       "      <td>1</td>\n",
       "      <td>M020171</td>\n",
       "    </tr>\n",
       "  </tbody>\n",
       "</table>\n",
       "</div>"
      ],
      "text/plain": [
       "       route_id          service_id                             trip_id  \\\n",
       "63235        B9      JG_A5-Saturday         JG_A5-Saturday-115800_B9_25   \n",
       "150771      M79       MQ_H5-Weekday         MQ_H5-Weekday-125100_M79_20   \n",
       "132639      M23        MQ_A5-Sunday          MQ_A5-Sunday-079900_M23_15   \n",
       "116424     M103      OH_A5-Saturday      OH_A5-Saturday-108700_M101_102   \n",
       "66534      BX11       WF_H5-Weekday       WF_H5-Weekday-146000_BX35_235   \n",
       "109491      BX8        WF_A5-Sunday          WF_A5-Sunday-129000_BX8_20   \n",
       "175580      Q36       QV_A5-Weekday          QV_A5-Weekday-104500_Q36_5   \n",
       "150243      M79       MQ_A5-Weekday         MQ_A5-Weekday-127000_M79_18   \n",
       "198611      Q85  JA_A5-Weekday-SDon  JA_A5-Weekday-SDon-120700_MISC_567   \n",
       "134690       M2       MV_J5-Weekday         MV_J5-Weekday-142000_M2_143   \n",
       "\n",
       "                                   trip_headsign  direction_id  shape_id  \n",
       "63235   BAY RDGE SHORE RD via AVENUE M via 60 ST             1    B90040  \n",
       "150771          WEST SIDE-RIVERSIDE DR CROSSTOWN             1   M790026  \n",
       "132639                EAST SIDE FDR DR CROSSTOWN             0   M230005  \n",
       "116424                      CITY HALL via LEX AV             1  M1030172  \n",
       "66534             WASHINGTON HEIGHTS  G W BRIDGE             1  BX110042  \n",
       "109491                            WESTCHESTER SQ             1  BX080082  \n",
       "175580                       JAMAICA 165 ST TERM             1   Q360148  \n",
       "150243           YORKVILLE EAST END AV CROSSTOWN             0   M790024  \n",
       "198611                     JAMAICA PRSNS - ARCHR             1   Q851148  \n",
       "134690                EAST VILLAGE 8 ST via 5 AV             1   M020171  "
      ]
     },
     "execution_count": 62,
     "metadata": {},
     "output_type": "execute_result"
    }
   ],
   "source": [
    "trips.sample(10)"
   ]
  }
 ],
 "metadata": {
  "kernelspec": {
   "display_name": "PUI2016_Python3",
   "language": "python",
   "name": "pui2016_python3"
  },
  "language_info": {
   "codemirror_mode": {
    "name": "ipython",
    "version": 3
   },
   "file_extension": ".py",
   "mimetype": "text/x-python",
   "name": "python",
   "nbconvert_exporter": "python",
   "pygments_lexer": "ipython3",
   "version": "3.5.4"
  }
 },
 "nbformat": 4,
 "nbformat_minor": 2
}
