{
 "cells": [
  {
   "cell_type": "markdown",
   "metadata": {},
   "source": [
    "# Data Download & Processing\n",
    "\n",
    "The objective of this script is to create a common dataset for our analysis. It includes the following functions:\n",
    "- download MTA bus data from May 1 to 31, 2017\n",
    "- process data in each file \n",
    "- select only M15 and M15 SBS buses\n",
    "- concatenate daily dataset into one consolidated dataset"
   ]
  },
  {
   "cell_type": "markdown",
   "metadata": {},
   "source": [
    "---\n",
    "\n",
    "# Download MTA Bus Data\n",
    "\n",
    "- Download\n",
    "- Unzip\n",
    "- Remove zipped files"
   ]
  },
  {
   "cell_type": "code",
   "execution_count": 10,
   "metadata": {
    "collapsed": false
   },
   "outputs": [
    {
     "name": "stdout",
     "output_type": "stream",
     "text": [
      "--- Downloading MTA Bus Data of May 9, 2017 ---\n",
      "--2017-11-22 15:20:55--  http://data.mytransit.nyc.s3.amazonaws.com/bus_time/2017/2017-05/bus_time_20170509.csv.xz\n",
      "Resolving data.mytransit.nyc.s3.amazonaws.com (data.mytransit.nyc.s3.amazonaws.com)... 54.231.33.155\n",
      "Connecting to data.mytransit.nyc.s3.amazonaws.com (data.mytransit.nyc.s3.amazonaws.com)|54.231.33.155|:80... connected.\n",
      "HTTP request sent, awaiting response... 200 OK\n",
      "Length: 41957164 (40M) [text/csv]\n",
      "Saving to: ‘./download/bus_time_20170509.csv.xz’\n",
      "\n",
      "100%[======================================>] 41,957,164  44.3MB/s   in 0.9s   \n",
      "\n",
      "2017-11-22 15:20:57 (44.3 MB/s) - ‘./download/bus_time_20170509.csv.xz’ saved [41957164/41957164]\n",
      "\n",
      "--- Unzipping MTA Bus Data of May 9, 2017 ---\n",
      "\n",
      "7-Zip (A) [64] 9.20  Copyright (c) 1999-2010 Igor Pavlov  2010-11-18\n",
      "p7zip Version 9.20 (locale=en_US.UTF-8,Utf16=on,HugeFiles=on,8 CPUs)\n",
      "\n",
      "Processing archive: ./download/bus_time_20170509.csv.xz\n",
      "\n",
      "Extracting  bus_time_20170509.csv\n",
      "\n",
      "Everything is Ok\n",
      "\n",
      "Size:       353835337\n",
      "Compressed: 41957164\n"
     ]
    }
   ],
   "source": [
    "# Download Bus Time for all May, 2017\n",
    "# Only do it at set up\n",
    "\n",
    "\n",
    "for i in [9]:\n",
    "    \n",
    "    if i < 10: \n",
    "        file = 'bus_time_2017050' + str(i) + '.csv.xz'\n",
    "    else: \n",
    "        file = 'bus_time_201705' + str(i) + '.csv.xz'\n",
    "    \n",
    "    url = 'http://data.mytransit.nyc.s3.amazonaws.com/bus_time/2017/2017-05/' + file \n",
    "    \n",
    "    print(\"--- Downloading MTA Bus Data of May %i, 2017 ---\" %i)\n",
    "    !wget -nc $url -P './download'\n",
    "    \n",
    "    print(\"--- Unzipping MTA Bus Data of May %i, 2017 ---\" %i)\n",
    "    path = \"./download/\" + file\n",
    "    !7za e $path -o./data -aoa\n"
   ]
  },
  {
   "cell_type": "code",
   "execution_count": 12,
   "metadata": {
    "collapsed": false
   },
   "outputs": [
    {
     "name": "stdout",
     "output_type": "stream",
     "text": [
      "File ‘./download/google_transit_manhattan.zip’ already there; not retrieving.\n",
      "\n",
      "Archive:  google_transit_manhattan.zip\n",
      "  inflating: agency.txt              \n",
      "  inflating: calendar.txt            \n",
      "  inflating: calendar_dates.txt      \n",
      "  inflating: stops.txt               \n",
      "  inflating: trips.txt               \n",
      "  inflating: stop_times.txt          \n",
      "  inflating: shapes.txt              \n",
      "  inflating: routes.txt              \n"
     ]
    }
   ],
   "source": [
    "file = 'http://web.mta.info/developers/data/nyct/bus/google_transit_manhattan.zip'\n",
    "!wget -nc $file -P './download'\n",
    "!cd download; unzip -o google_transit_manhattan.zip"
   ]
  },
  {
   "cell_type": "code",
   "execution_count": 60,
   "metadata": {
    "collapsed": false,
    "scrolled": true
   },
   "outputs": [
    {
     "data": {
      "text/plain": [
       "\"\\n\\npath = './download/gtfs_nyct_bus_20150103.zip'\\n!7za e $path -o./data\\n\\n\""
      ]
     },
     "execution_count": 60,
     "metadata": {},
     "output_type": "execute_result"
    }
   ],
   "source": [
    "'''\n",
    "\n",
    "path = './download/gtfs_nyct_bus_20150103.zip'\n",
    "!7za e $path -o./data\n",
    "\n",
    "'''"
   ]
  },
  {
   "cell_type": "markdown",
   "metadata": {},
   "source": [
    "---"
   ]
  },
  {
   "cell_type": "code",
   "execution_count": 8,
   "metadata": {
    "collapsed": true
   },
   "outputs": [],
   "source": [
    "import pandas as pd\n",
    "import numpy as np"
   ]
  },
  {
   "cell_type": "code",
   "execution_count": 13,
   "metadata": {
    "collapsed": false
   },
   "outputs": [],
   "source": [
    "trips = pd.read_csv(\"./download/trips.txt\")\n",
    "stops = pd.read_csv(\"./download/stops.txt\")\n",
    "schedules = pd.read_csv(\"./download/stop_times.txt\")"
   ]
  },
  {
   "cell_type": "code",
   "execution_count": 16,
   "metadata": {
    "collapsed": false
   },
   "outputs": [
    {
     "data": {
      "text/plain": [
       "49753"
      ]
     },
     "execution_count": 16,
     "metadata": {},
     "output_type": "execute_result"
    }
   ],
   "source": []
  },
  {
   "cell_type": "markdown",
   "metadata": {},
   "source": [
    "### Process and Concatenate 3 Days of Bus Data for Testing"
   ]
  },
  {
   "cell_type": "code",
   "execution_count": 5,
   "metadata": {
    "collapsed": true
   },
   "outputs": [],
   "source": [
    "import os\n",
    "os.path.isfile"
   ]
  },
  {
   "cell_type": "code",
   "execution_count": 11,
   "metadata": {
    "collapsed": false
   },
   "outputs": [
    {
     "name": "stdout",
     "output_type": "stream",
     "text": [
      " --- Processing ./data/bus_time_20170509.csv ---\n",
      " --- Done (1/3) ---\n",
      " --- Done (2/3) --- \n",
      " --- Done (3/3) --- \n",
      "--- Done (cleanup) --- \n"
     ]
    }
   ],
   "source": [
    "import pandas as pd\n",
    "for i in [9]:\n",
    "    try:\n",
    "        if i < 10: \n",
    "            file_base = './data/bus_time_2017050' + str(i)\n",
    "            file = file_base + \".csv\"\n",
    "        else: \n",
    "            file_base = './data/bus_time_201705' + str(i)\n",
    "            file = file_base + \".csv\"\n",
    "            \n",
    "        if os.path.isfile(file_base + \"_m15_filtered.csv\"):\n",
    "            print(\"Output already exists at {}\".format(file_base + \"_m15_filtered.csv\"))\n",
    "            print(\"--- Moving on --- \")\n",
    "            continue\n",
    "            \n",
    "        # ingest into a data frame\n",
    "        print(\" --- Processing %s ---\" %file)\n",
    "        df = pd.read_csv(file)\n",
    "        df = df[df['block_assigned'] == 1]\n",
    "        # convert timestamp to DateTime\n",
    "        df['timestamp'] = pd.to_datetime(df['timestamp'], infer_datetime_format = True)\n",
    "        df['Day'] = df['timestamp'].apply(lambda x: x.day)\n",
    "        df['Hour'] =df['timestamp'].apply(lambda x: x.hour)\n",
    "        df['DOW'] = df['timestamp'].dt.dayofweek\n",
    "\n",
    "        days = {0:'Mon',1:'Tues',2:'Weds',3:'Thurs',4:'Fri',5:'Sat',6:'Sun'}\n",
    "        df['DOW_Label'] = df['DOW'].apply(lambda x: days[x])\n",
    "        \n",
    "        print(\" --- Done (1/3) ---\")\n",
    "        \n",
    "        #throw away trips with <15 reports\n",
    "        df = df.groupby(df.trip_id).filter(lambda group: len(group) > 15)\n",
    "        \n",
    "        print(\" --- Done (2/3) --- \")\n",
    "        m15 = df[df.trip_id.str.contains(\"_M15\")]\n",
    "        m15_sbs = df[df.trip_id.str.contains(\"_SBS15\")]\n",
    "        \n",
    "        m15.to_csv(file_base + \"_m15_filtered.csv\")\n",
    "        m15_sbs.to_csv(file_base + \"_m15_sbs_filtered.csv\")\n",
    "        print(\" --- Done (3/3) --- \")\n",
    "        del df\n",
    "        del m15\n",
    "        del m15_sbs\n",
    "        print(\"--- Done (cleanup) --- \")\n",
    "        \n",
    "    except Exception as ex:\n",
    "        print(ex)\n",
    "        pass"
   ]
  },
  {
   "cell_type": "code",
   "execution_count": 30,
   "metadata": {
    "collapsed": false
   },
   "outputs": [
    {
     "data": {
      "text/plain": [
       "array(['OF_B7-Sunday-119100_SBS15_446', 'OF_B7-Sunday-114900_SBS15_449',\n",
       "       'OF_B7-Sunday-116600_SBS15_450', 'OF_B7-Sunday-112700_SBS15_455',\n",
       "       'OF_B7-Sunday-113500_SBS15_461', 'OF_B7-Sunday-115200_SBS15_462',\n",
       "       'OF_B7-Sunday-118100_SBS15_464', 'OF_B7-Sunday-111800_SBS15_454',\n",
       "       'OF_B7-Sunday-118300_SBS15_435', 'OF_B7-Sunday-111500_SBS15_434',\n",
       "       'OF_B7-Sunday-115700_SBS15_437', 'OF_B7-Sunday-117100_SBS15_445',\n",
       "       'OF_B7-Sunday-120200_SBS15_455', 'OF_B7-Sunday-119200_SBS15_454',\n",
       "       'OF_B7-Sunday-120100_SBS15_447', 'OF_B7-Sunday-121100_SBS15_448',\n",
       "       'OF_B7-Sunday-122100_SBS15_449', 'OF_B7-Sunday-123200_SBS15_462',\n",
       "       'OF_B7-Sunday-117400_SBS15_451', 'OF_B7-Sunday-121200_SBS15_461',\n",
       "       'OF_B7-Sunday-123200_SBS15_450', 'OF_B7-Sunday-125200_SBS15_445',\n",
       "       'OF_B7-Sunday-124400_SBS15_451', 'OF_B7-Sunday-126200_SBS15_464',\n",
       "       'OF_B7-Sunday-125600_SBS15_454', 'OF_B7-Sunday-126800_SBS15_455',\n",
       "       'OF_B7-Sunday-128200_SBS15_447', 'OF_B7-Sunday-127200_SBS15_446',\n",
       "       'OF_B7-Sunday-129200_SBS15_462', 'OF_B7-Sunday-129200_SBS15_448',\n",
       "       'OF_B7-Sunday-130200_SBS15_449', 'OF_B7-Sunday-128000_SBS15_461',\n",
       "       'OF_B7-Sunday-131200_SBS15_450', 'OF_B7-Sunday-132200_SBS15_451',\n",
       "       'OF_B7-Sunday-132000_SBS15_464', 'OF_B7-Sunday-133200_SBS15_454',\n",
       "       'OF_B7-Sunday-134200_SBS15_455', 'OF_B7-Sunday-135400_SBS15_461',\n",
       "       'OF_B7-Sunday-136600_SBS15_462', 'OF_B7-Sunday-139300_SBS15_464',\n",
       "       'OF_B7-Weekday-SDon-028500_SBS15_401',\n",
       "       'OF_B7-Weekday-SDon-029500_SBS15_402',\n",
       "       'OF_B7-Weekday-SDon-030100_SBS15_403',\n",
       "       'OF_B7-Weekday-SDon-030700_SBS15_404',\n",
       "       'OF_B7-Weekday-SDon-031300_SBS15_405',\n",
       "       'OF_B7-Weekday-SDon-031900_SBS15_406',\n",
       "       'OF_B7-Weekday-SDon-032500_SBS15_407',\n",
       "       'OF_B7-Weekday-SDon-033100_SBS15_408',\n",
       "       'OF_B7-Weekday-SDon-033800_SBS15_401',\n",
       "       'OF_B7-Weekday-SDon-034300_SBS15_410',\n",
       "       'OF_B7-Weekday-SDon-034600_SBS15_402',\n",
       "       'OF_B7-Weekday-SDon-034900_SBS15_411',\n",
       "       'OF_B7-Weekday-SDon-035500_SBS15_403',\n",
       "       'OF_B7-Weekday-SDon-035500_SBS15_412',\n",
       "       'OF_B7-Weekday-SDon-036300_SBS15_404',\n",
       "       'OF_B7-Weekday-SDon-037100_SBS15_405',\n",
       "       'OF_B7-Weekday-SDon-037100_SBS15_416',\n",
       "       'OF_B7-Weekday-SDon-037900_SBS15_406',\n",
       "       'OF_B7-Weekday-SDon-036700_SBS15_415',\n",
       "       'OF_B7-Weekday-SDon-037500_SBS15_417',\n",
       "       'OF_B7-Weekday-SDon-037900_SBS15_418',\n",
       "       'OF_B7-Weekday-SDon-038300_SBS15_419',\n",
       "       'OF_B7-Weekday-SDon-036300_SBS15_414',\n",
       "       'OF_B7-Weekday-SDon-039600_SBS15_401',\n",
       "       'OF_B7-Weekday-SDon-038700_SBS15_420',\n",
       "       'OF_B7-Weekday-SDon-039000_SBS15_421',\n",
       "       'OF_B7-Weekday-SDon-040500_SBS15_424',\n",
       "       'OF_B7-Weekday-SDon-038700_SBS15_407',\n",
       "       'OF_B7-Weekday-SDon-039300_SBS15_422',\n",
       "       'OF_B7-Weekday-SDon-039900_SBS15_423',\n",
       "       'OF_B7-Weekday-SDon-040500_SBS15_410',\n",
       "       'OF_B7-Weekday-SDon-040200_SBS15_402',\n",
       "       'OF_B7-Weekday-SDon-040800_SBS15_X50',\n",
       "       'OF_B7-Weekday-SDon-041400_SBS15_425',\n",
       "       'OF_B7-Weekday-SDon-041000_SBS15_411',\n",
       "       'OF_B7-Weekday-SDon-041500_SBS15_412',\n",
       "       'OF_B7-Weekday-SDon-041100_SBS15_403',\n",
       "       'OF_B7-Weekday-SDon-041700_SBS15_426',\n",
       "       'OF_B7-Weekday-SDon-041900_SBS15_427',\n",
       "       'OF_B7-Weekday-SDon-042400_SBS15_428',\n",
       "       'OF_B7-Weekday-SDon-042700_SBS15_429',\n",
       "       'OF_B7-Weekday-SDon-042900_SBS15_405',\n",
       "       'OF_B7-Weekday-SDon-043000_SBS15_415',\n",
       "       'OF_B7-Weekday-SDon-043400_SBS15_416',\n",
       "       'OF_B7-Weekday-SDon-043200_SBS15_430',\n",
       "       'OF_B7-Weekday-SDon-042200_SBS15_404',\n",
       "       'OF_B7-Weekday-SDon-042500_SBS15_414',\n",
       "       'OF_B7-Weekday-SDon-043400_SBS15_431',\n",
       "       'OF_B7-Weekday-SDon-043700_SBS15_432',\n",
       "       'OF_B7-Weekday-SDon-044200_SBS15_406',\n",
       "       'OF_B7-Weekday-SDon-043700_SBS15_417',\n",
       "       'OF_B7-Weekday-SDon-043900_SBS15_433',\n",
       "       'OF_B7-Weekday-SDon-039500_SBS15_408',\n",
       "       'OF_B7-Weekday-SDon-044400_SBS15_434',\n",
       "       'OF_B7-Weekday-SDon-044700_SBS15_435',\n",
       "       'OF_B7-Weekday-SDon-044900_SBS15_437',\n",
       "       'OF_B7-Weekday-SDon-045900_SBS15_440',\n",
       "       'OF_B7-Weekday-SDon-044000_SBS15_418',\n",
       "       'OF_B7-Weekday-SDon-045500_SBS15_421',\n",
       "       'OF_B7-Weekday-SDon-045400_SBS15_438',\n",
       "       'OF_B7-Weekday-SDon-045700_SBS15_439',\n",
       "       'OF_B7-Weekday-SDon-046700_SBS15_401',\n",
       "       'OF_B7-Weekday-SDon-045200_SBS15_436',\n",
       "       'OF_B7-Weekday-SDon-046400_SBS15_402',\n",
       "       'OF_B7-Weekday-SDon-046500_SBS15_441',\n",
       "       'OF_B7-Weekday-SDon-047100_SBS15_424',\n",
       "       'OF_B7-Weekday-SDon-046900_SBS15_442',\n",
       "       'OF_B7-Weekday-SDon-047300_SBS15_423',\n",
       "       'OF_B7-Weekday-SDon-046100_SBS15_422',\n",
       "       'OF_B7-Weekday-SDon-044300_SBS15_419',\n",
       "       'OF_B7-Weekday-SDon-047700_SBS15_X50',\n",
       "       'OF_B7-Weekday-SDon-042000_SBS15_413',\n",
       "       'OF_B7-Weekday-SDon-047700_SBS15_410',\n",
       "       'OF_B7-Weekday-SDon-048300_SBS15_425',\n",
       "       'OF_B7-Weekday-SDon-044900_SBS15_420',\n",
       "       'OF_B7-Weekday-SDon-048100_SBS15_443',\n",
       "       'OF_B7-Weekday-SDon-048500_SBS15_444',\n",
       "       'OF_B7-Weekday-SDon-048900_SBS15_412',\n",
       "       'OF_B7-Weekday-SDon-049500_SBS15_404',\n",
       "       'OF_B7-Weekday-SDon-049200_SBS15_426',\n",
       "       'OF_B7-Weekday-SDon-049700_SBS15_414',\n",
       "       'OF_B7-Weekday-SDon-048200_SBS15_403',\n",
       "       'OF_B7-Weekday-SDon-050100_SBS15_415',\n",
       "       'OF_B7-Weekday-SDon-049800_SBS15_428',\n",
       "       'OF_B7-Weekday-SDon-050300_SBS15_429',\n",
       "       'OF_B7-Weekday-SDon-050600_SBS15_405',\n",
       "       'OF_B7-Weekday-SDon-050800_SBS15_430',\n",
       "       'OF_B7-Weekday-SDon-050500_SBS15_416',\n",
       "       'OF_B7-Weekday-SDon-051000_SBS15_432',\n",
       "       'OF_B7-Weekday-SDon-051200_SBS15_431',\n",
       "       'OF_B7-Weekday-SDon-050900_SBS15_407',\n",
       "       'OF_B7-Weekday-SDon-051700_SBS15_419',\n",
       "       'OF_B7-Weekday-SDon-051900_SBS15_433',\n",
       "       'OF_B7-Weekday-SDon-051900_SBS15_435',\n",
       "       'OF_B7-Weekday-SDon-051600_SBS15_406',\n",
       "       'OF_B7-Weekday-SDon-052200_SBS15_437',\n",
       "       'OF_B7-Weekday-SDon-052100_SBS15_411',\n",
       "       'OF_B7-Weekday-SDon-052800_SBS15_436',\n",
       "       'OF_B7-Weekday-SDon-052500_SBS15_420',\n",
       "       'OF_B7-Weekday-SDon-053000_SBS15_424',\n",
       "       'OF_B7-Weekday-SDon-053100_SBS15_439',\n",
       "       'OF_B7-Weekday-SDon-053500_SBS15_421',\n",
       "       'OF_B7-Weekday-SDon-053400_SBS15_440',\n",
       "       'OF_B7-Weekday-SDon-054100_SBS15_425',\n",
       "       'OF_B7-Weekday-SDon-054300_SBS15_438',\n",
       "       'OF_B7-Weekday-SDon-054500_SBS15_442',\n",
       "       'OF_B7-Weekday-SDon-053700_SBS15_441',\n",
       "       'OF_B7-Weekday-SDon-054800_SBS15_422',\n",
       "       'OF_B7-Weekday-SDon-051300_SBS15_418',\n",
       "       'OF_B7-Weekday-SDon-054900_SBS15_410',\n",
       "       'OF_B7-Weekday-SDon-055700_SBS15_443',\n",
       "       'OF_B7-Weekday-SDon-056300_SBS15_417',\n",
       "       'OF_B7-Weekday-SDon-056100_SBS15_412',\n",
       "       'OF_B7-Weekday-SDon-057100_SBS15_402',\n",
       "       'OF_B7-Weekday-SDon-056900_SBS15_414',\n",
       "       'OF_B7-Weekday-SDon-057100_SBS15_444',\n",
       "       'OF_B7-Weekday-SDon-058700_SBS15_415',\n",
       "       'OF_B7-Weekday-SDon-057800_SBS15_426',\n",
       "       'OF_B7-Weekday-SDon-053100_SBS15_434',\n",
       "       'OF_B7-Weekday-SDon-057700_SBS15_416',\n",
       "       'OF_B7-Weekday-SDon-059300_SBS15_441',\n",
       "       'OF_B7-Weekday-SDon-058100_SBS15_407',\n",
       "       'OF_B7-Weekday-SDon-058600_SBS15_436',\n",
       "       'OF_B7-Weekday-SDon-057900_SBS15_413',\n",
       "       'OF_B7-Weekday-SDon-055600_SBS15_427',\n",
       "       'OF_B7-Weekday-SDon-060800_SBS15_404',\n",
       "       'OF_B7-Weekday-SDon-060100_SBS15_440',\n",
       "       'OF_B7-Weekday-SDon-062300_SBS15_443',\n",
       "       'OF_B7-Weekday-SDon-060100_SBS15_418',\n",
       "       'OF_B7-Weekday-SDon-061600_SBS15_403',\n",
       "       'OF_B7-Weekday-SDon-061500_SBS15_411',\n",
       "       'OF_B7-Weekday-SDon-062900_SBS15_424',\n",
       "       'OF_B7-Weekday-SDon-061600_SBS15_421',\n",
       "       'OF_B7-Weekday-SDon-062200_SBS15_420',\n",
       "       'OF_B7-Weekday-SDon-063000_SBS15_401',\n",
       "       'OF_B7-Weekday-SDon-063600_SBS15_425',\n",
       "       'OF_B7-Weekday-SDon-063700_SBS15_407',\n",
       "       'OF_B7-Weekday-SDon-060800_SBS15_419',\n",
       "       'OF_B7-Weekday-SDon-064400_SBS15_423',\n",
       "       'OF_B7-Weekday-SDon-064300_SBS15_422',\n",
       "       'OF_B7-Weekday-SDon-065800_SBS15_405',\n",
       "       'OF_B7-Weekday-SDon-065700_SBS15_417',\n",
       "       'OF_B7-Weekday-SDon-066400_SBS15_402',\n",
       "       'OF_B7-Weekday-SDon-066500_SBS15_406',\n",
       "       'OF_B7-Weekday-SDon-065000_SBS15_427',\n",
       "       'OF_B7-Weekday-SDon-067100_SBS15_426',\n",
       "       'OF_B7-Weekday-SDon-067900_SBS15_435',\n",
       "       'OF_B7-Weekday-SDon-067800_SBS15_436',\n",
       "       'OF_B7-Weekday-SDon-068500_SBS15_441',\n",
       "       'OF_B7-Weekday-SDon-068600_SBS15_437',\n",
       "       'OF_B7-Weekday-SDon-069200_SBS15_440',\n",
       "       'OF_B7-Weekday-SDon-070000_SBS15_409',\n",
       "       'OF_B7-Weekday-SDon-070000_SBS15_404',\n",
       "       'OF_B7-Weekday-SDon-070700_SBS15_403',\n",
       "       'OF_B7-Weekday-SDon-071500_SBS15_443',\n",
       "       'OF_B7-Weekday-SDon-070700_SBS15_413',\n",
       "       'OF_B7-Weekday-SDon-072200_SBS15_412',\n",
       "       'OF_B7-Weekday-SDon-071400_SBS15_414',\n",
       "       'OF_B7-Weekday-SDon-072200_SBS15_401',\n",
       "       'OF_B7-Weekday-SDon-073000_SBS15_407',\n",
       "       'OF_B7-Weekday-SDon-072900_SBS15_415',\n",
       "       'OF_B7-Weekday-SDon-073700_SBS15_423',\n",
       "       'OF_B7-Weekday-SDon-075200_SBS15_405',\n",
       "       'OF_B7-Weekday-SDon-074400_SBS15_418',\n",
       "       'OF_B7-Weekday-SDon-073700_SBS15_419',\n",
       "       'OF_B7-Weekday-SDon-075200_SBS15_431',\n",
       "       'OF_B7-Weekday-SDon-076000_SBS15_406',\n",
       "       'OF_B7-Weekday-SDon-075900_SBS15_439',\n",
       "       'OF_B7-Weekday-SDon-077400_SBS15_435',\n",
       "       'OF_B7-Weekday-SDon-077400_SBS15_442',\n",
       "       'OF_B7-Weekday-SDon-076700_SBS15_433',\n",
       "       'OF_B7-Weekday-SDon-078100_SBS15_437',\n",
       "       'OF_B7-Weekday-SDon-078200_SBS15_452',\n",
       "       'OF_B7-Weekday-SDon-078900_SBS15_453',\n",
       "       'OF_B7-Weekday-SDon-079500_SBS15_409',\n",
       "       'OF_B7-Weekday-SDon-079700_SBS15_430',\n",
       "       'OF_B7-Weekday-SDon-080400_SBS15_456',\n",
       "       'OF_B7-Weekday-SDon-080300_SBS15_413',\n",
       "       'OF_B7-Weekday-SDon-081200_SBS15_429',\n",
       "       'OF_B7-Weekday-SDon-082500_SBS15_434',\n",
       "       'OF_B7-Weekday-SDon-081000_SBS15_414',\n",
       "       'OF_B7-Weekday-SDon-081800_SBS15_412',\n",
       "       'OF_B7-Weekday-SDon-081900_SBS15_410',\n",
       "       'OF_B7-Weekday-SDon-082500_SBS15_415',\n",
       "       'OF_B7-Weekday-SDon-076700_SBS15_432',\n",
       "       'OF_B7-Weekday-SDon-083100_SBS15_445',\n",
       "       'OF_B7-Weekday-SDon-083700_SBS15_438',\n",
       "       'OF_B7-Weekday-SDon-083300_SBS15_419',\n",
       "       'OF_B7-Weekday-SDon-084300_SBS15_457',\n",
       "       'OF_B7-Weekday-SDon-084000_SBS15_418',\n",
       "       'OF_B7-Weekday-SDon-085500_SBS15_446',\n",
       "       'OF_B7-Weekday-SDon-084800_SBS15_431',\n",
       "       'OF_B7-Weekday-SDon-078800_SBS15_408',\n",
       "       'OF_B7-Weekday-SDon-084900_SBS15_458',\n",
       "       'OF_B7-Weekday-SDon-085500_SBS15_439',\n",
       "       'OF_B7-Weekday-SDon-087000_SBS15_442',\n",
       "       'OF_B7-Weekday-SDon-086100_SBS15_459',\n",
       "       'OF_B7-Weekday-SDon-086300_SBS15_433',\n",
       "       'OF_B7-Weekday-SDon-086700_SBS15_460',\n",
       "       'OF_B7-Weekday-SDon-088000_SBS15_444',\n",
       "       'OF_B7-Weekday-SDon-087400_SBS15_447',\n",
       "       'OF_B7-Weekday-SDon-088700_SBS15_448',\n",
       "       'OF_B7-Weekday-SDon-087800_SBS15_452',\n",
       "       'OF_B7-Weekday-SDon-088500_SBS15_453',\n",
       "       'OF_B7-Weekday-SDon-090000_SBS15_411',\n",
       "       'OF_B7-Weekday-SDon-089300_SBS15_430',\n",
       "       'OF_B7-Weekday-SDon-090000_SBS15_456',\n",
       "       'OF_B7-Weekday-SDon-090700_SBS15_429',\n",
       "       'OF_B7-Weekday-SDon-090800_SBS15_450',\n",
       "       'OF_B7-Weekday-SDon-091500_SBS15_417',\n",
       "       'OF_B7-Weekday-SDon-091400_SBS15_410',\n",
       "       'OF_B7-Weekday-SDon-092000_SBS15_434',\n",
       "       'OF_B7-Weekday-SDon-092300_SBS15_416',\n",
       "       'OF_B7-Weekday-SDon-092900_SBS15_451',\n",
       "       'OF_B7-Weekday-SDon-092600_SBS15_445',\n",
       "       'OF_B7-Weekday-SDon-094100_SBS15_420',\n",
       "       'OF_B7-Weekday-SDon-093500_SBS15_422',\n",
       "       'OF_B7-Weekday-SDon-093200_SBS15_438',\n",
       "       'OF_B7-Weekday-SDon-094400_SBS15_458',\n",
       "       'OF_B7-Weekday-SDon-094700_SBS15_421',\n",
       "       'OF_B7-Weekday-SDon-095000_SBS15_446',\n",
       "       'OF_B7-Weekday-SDon-095600_SBS15_459',\n",
       "       'OF_B7-Weekday-SDon-095900_SBS15_424',\n",
       "       'OF_B7-Weekday-SDon-097000_SBS15_425',\n",
       "       'OF_B7-Weekday-SDon-096200_SBS15_460',\n",
       "       'OF_B7-Weekday-SDon-096500_SBS15_427',\n",
       "       'OF_B7-Weekday-SDon-097500_SBS15_454',\n",
       "       'OF_B7-Weekday-SDon-096800_SBS15_447',\n",
       "       'OF_B7-Weekday-SDon-097400_SBS15_444',\n",
       "       'OF_B7-Weekday-SDon-098500_SBS15_439',\n",
       "       'OF_B7-Weekday-SDon-098000_SBS15_426',\n",
       "       'OF_B7-Weekday-SDon-098100_SBS15_448',\n",
       "       'OF_B7-Weekday-SDon-098700_SBS15_449',\n",
       "       'OF_B7-Weekday-SDon-099500_SBS15_455',\n",
       "       'OF_B7-Weekday-SDon-099000_SBS15_442',\n",
       "       'OF_B7-Weekday-SDon-100000_SBS15_436',\n",
       "       'OF_B7-Weekday-SDon-099400_SBS15_411',\n",
       "       'OF_B7-Weekday-SDon-100700_SBS15_417',\n",
       "       'OF_B7-Weekday-SDon-100000_SBS15_450',\n",
       "       'OF_B7-Weekday-SDon-100500_SBS15_452',\n",
       "       'OF_B7-Weekday-SDon-101000_SBS15_440',\n",
       "       'OF_B7-Weekday-SDon-101500_SBS15_453',\n",
       "       'OF_B7-Weekday-SDon-102000_SBS15_461',\n",
       "       'OF_B7-Weekday-SDon-101300_SBS15_416',\n",
       "       'OF_B7-Weekday-SDon-101900_SBS15_451',\n",
       "       'OF_B7-Weekday-SDon-103800_SBS15_463',\n",
       "       'OF_B7-Weekday-SDon-103700_SBS15_421',\n",
       "       'OF_B7-Weekday-SDon-103100_SBS15_420',\n",
       "       'OF_B7-Weekday-SDon-103200_SBS15_441',\n",
       "       'OF_B7-Weekday-SDon-102500_SBS15_422',\n",
       "       'OF_B7-Weekday-SDon-104400_SBS15_443',\n",
       "       'OF_B7-Weekday-SDon-105600_SBS15_444',\n",
       "       'OF_B7-Weekday-SDon-104900_SBS15_424',\n",
       "       'OF_B7-Weekday-SDon-106100_SBS15_425',\n",
       "       'OF_B7-Weekday-SDon-105000_SBS15_445',\n",
       "       'OF_B7-Weekday-SDon-105500_SBS15_427',\n",
       "       'OF_B7-Weekday-SDon-106200_SBS15_456',\n",
       "       'OF_B7-Weekday-SDon-106600_SBS15_454',\n",
       "       'OF_B7-Weekday-SDon-106800_SBS15_457',\n",
       "       'OF_B7-Weekday-SDon-107100_SBS15_426',\n",
       "       'OF_B7-Weekday-SDon-108100_SBS15_442',\n",
       "       'OF_B7-Weekday-SDon-107600_SBS15_458',\n",
       "       'OF_B7-Weekday-SDon-107600_SBS15_439',\n",
       "       'OF_B7-Weekday-SDon-108500_SBS15_446',\n",
       "       'OF_B7-Weekday-SDon-108600_SBS15_455',\n",
       "       'OF_B7-Weekday-SDon-109100_SBS15_436',\n",
       "       'OF_B7-Weekday-SDon-109400_SBS15_459',\n",
       "       'OF_B7-Weekday-SDon-109600_SBS15_452',\n",
       "       'OF_B7-Weekday-SDon-110300_SBS15_460',\n",
       "       'OF_B7-Weekday-SDon-110100_SBS15_440',\n",
       "       'OF_B7-Weekday-SDon-111100_SBS15_461',\n",
       "       'OF_B7-Weekday-SDon-110600_SBS15_453',\n",
       "       'OF_B7-Weekday-SDon-111300_SBS15_447',\n",
       "       'OF_B7-Weekday-SDon-112300_SBS15_448',\n",
       "       'OF_B7-Weekday-SDon-112100_SBS15_441',\n",
       "       'OF_B7-Weekday-SDon-112600_SBS15_463',\n",
       "       'OF_B7-Weekday-SDon-113100_SBS15_443',\n",
       "       'OF_B7-Weekday-SDon-113700_SBS15_445',\n",
       "       'OF_B7-Weekday-SDon-114300_SBS15_450',\n",
       "       'OF_B7-Weekday-SDon-114400_SBS15_444',\n",
       "       'OF_B7-Weekday-SDon-115300_SBS15_451',\n",
       "       'OF_B7-Weekday-SDon-115200_SBS15_456',\n",
       "       'OF_B7-Weekday-SDon-117300_SBS15_452',\n",
       "       'OF_B7-Weekday-SDon-117800_SBS15_446',\n",
       "       'OF_B7-Weekday-SDon-116300_SBS15_464',\n",
       "       'OF_B7-Weekday-SDon-116100_SBS15_457',\n",
       "       'OF_B7-Weekday-SDon-116900_SBS15_458',\n",
       "       'OF_B7-Weekday-SDon-119500_SBS15_460',\n",
       "       'OF_B7-Weekday-SDon-118500_SBS15_453',\n",
       "       'OF_B7-Weekday-SDon-118600_SBS15_459',\n",
       "       'OF_B7-Weekday-SDon-119700_SBS15_454',\n",
       "       'OF_B7-Weekday-SDon-120300_SBS15_447'], dtype=object)"
      ]
     },
     "execution_count": 30,
     "metadata": {},
     "output_type": "execute_result"
    }
   ],
   "source": [
    "#total_df[total_df.trip_id.str.contains(\"_M15\")].trip_id.unique()\n",
    "total_df[total_df.trip_id.str.contains(\"_SBS15\")].trip_id.unique()"
   ]
  },
  {
   "cell_type": "code",
   "execution_count": 19,
   "metadata": {
    "collapsed": true
   },
   "outputs": [],
   "source": [
    "join_df = total_df.merge(trips, on='trip_id')"
   ]
  },
  {
   "cell_type": "code",
   "execution_count": 20,
   "metadata": {
    "collapsed": false,
    "scrolled": true
   },
   "outputs": [
    {
     "data": {
      "text/plain": [
       "(0, 21)"
      ]
     },
     "execution_count": 20,
     "metadata": {},
     "output_type": "execute_result"
    }
   ],
   "source": [
    "join_df.shape"
   ]
  },
  {
   "cell_type": "code",
   "execution_count": 31,
   "metadata": {
    "collapsed": false
   },
   "outputs": [
    {
     "data": {
      "text/plain": [
       "817254     1\n",
       "1282344    1\n",
       "89769      1\n",
       "2221719    1\n",
       "3000728    1\n",
       "924368     1\n",
       "232103     1\n",
       "2010816    1\n",
       "2360826    0\n",
       "3177518    1\n",
       "Name: block_assigned, dtype: int64"
      ]
     },
     "execution_count": 31,
     "metadata": {},
     "output_type": "execute_result"
    }
   ],
   "source": [
    "total_df.sample(10).block_assigned"
   ]
  },
  {
   "cell_type": "code",
   "execution_count": 62,
   "metadata": {
    "collapsed": false
   },
   "outputs": [
    {
     "data": {
      "text/html": [
       "<div>\n",
       "<table border=\"1\" class=\"dataframe\">\n",
       "  <thead>\n",
       "    <tr style=\"text-align: right;\">\n",
       "      <th></th>\n",
       "      <th>route_id</th>\n",
       "      <th>service_id</th>\n",
       "      <th>trip_id</th>\n",
       "      <th>trip_headsign</th>\n",
       "      <th>direction_id</th>\n",
       "      <th>shape_id</th>\n",
       "    </tr>\n",
       "  </thead>\n",
       "  <tbody>\n",
       "    <tr>\n",
       "      <th>63235</th>\n",
       "      <td>B9</td>\n",
       "      <td>JG_A5-Saturday</td>\n",
       "      <td>JG_A5-Saturday-115800_B9_25</td>\n",
       "      <td>BAY RDGE SHORE RD via AVENUE M via 60 ST</td>\n",
       "      <td>1</td>\n",
       "      <td>B90040</td>\n",
       "    </tr>\n",
       "    <tr>\n",
       "      <th>150771</th>\n",
       "      <td>M79</td>\n",
       "      <td>MQ_H5-Weekday</td>\n",
       "      <td>MQ_H5-Weekday-125100_M79_20</td>\n",
       "      <td>WEST SIDE-RIVERSIDE DR CROSSTOWN</td>\n",
       "      <td>1</td>\n",
       "      <td>M790026</td>\n",
       "    </tr>\n",
       "    <tr>\n",
       "      <th>132639</th>\n",
       "      <td>M23</td>\n",
       "      <td>MQ_A5-Sunday</td>\n",
       "      <td>MQ_A5-Sunday-079900_M23_15</td>\n",
       "      <td>EAST SIDE FDR DR CROSSTOWN</td>\n",
       "      <td>0</td>\n",
       "      <td>M230005</td>\n",
       "    </tr>\n",
       "    <tr>\n",
       "      <th>116424</th>\n",
       "      <td>M103</td>\n",
       "      <td>OH_A5-Saturday</td>\n",
       "      <td>OH_A5-Saturday-108700_M101_102</td>\n",
       "      <td>CITY HALL via LEX AV</td>\n",
       "      <td>1</td>\n",
       "      <td>M1030172</td>\n",
       "    </tr>\n",
       "    <tr>\n",
       "      <th>66534</th>\n",
       "      <td>BX11</td>\n",
       "      <td>WF_H5-Weekday</td>\n",
       "      <td>WF_H5-Weekday-146000_BX35_235</td>\n",
       "      <td>WASHINGTON HEIGHTS  G W BRIDGE</td>\n",
       "      <td>1</td>\n",
       "      <td>BX110042</td>\n",
       "    </tr>\n",
       "    <tr>\n",
       "      <th>109491</th>\n",
       "      <td>BX8</td>\n",
       "      <td>WF_A5-Sunday</td>\n",
       "      <td>WF_A5-Sunday-129000_BX8_20</td>\n",
       "      <td>WESTCHESTER SQ</td>\n",
       "      <td>1</td>\n",
       "      <td>BX080082</td>\n",
       "    </tr>\n",
       "    <tr>\n",
       "      <th>175580</th>\n",
       "      <td>Q36</td>\n",
       "      <td>QV_A5-Weekday</td>\n",
       "      <td>QV_A5-Weekday-104500_Q36_5</td>\n",
       "      <td>JAMAICA 165 ST TERM</td>\n",
       "      <td>1</td>\n",
       "      <td>Q360148</td>\n",
       "    </tr>\n",
       "    <tr>\n",
       "      <th>150243</th>\n",
       "      <td>M79</td>\n",
       "      <td>MQ_A5-Weekday</td>\n",
       "      <td>MQ_A5-Weekday-127000_M79_18</td>\n",
       "      <td>YORKVILLE EAST END AV CROSSTOWN</td>\n",
       "      <td>0</td>\n",
       "      <td>M790024</td>\n",
       "    </tr>\n",
       "    <tr>\n",
       "      <th>198611</th>\n",
       "      <td>Q85</td>\n",
       "      <td>JA_A5-Weekday-SDon</td>\n",
       "      <td>JA_A5-Weekday-SDon-120700_MISC_567</td>\n",
       "      <td>JAMAICA PRSNS - ARCHR</td>\n",
       "      <td>1</td>\n",
       "      <td>Q851148</td>\n",
       "    </tr>\n",
       "    <tr>\n",
       "      <th>134690</th>\n",
       "      <td>M2</td>\n",
       "      <td>MV_J5-Weekday</td>\n",
       "      <td>MV_J5-Weekday-142000_M2_143</td>\n",
       "      <td>EAST VILLAGE 8 ST via 5 AV</td>\n",
       "      <td>1</td>\n",
       "      <td>M020171</td>\n",
       "    </tr>\n",
       "  </tbody>\n",
       "</table>\n",
       "</div>"
      ],
      "text/plain": [
       "       route_id          service_id                             trip_id  \\\n",
       "63235        B9      JG_A5-Saturday         JG_A5-Saturday-115800_B9_25   \n",
       "150771      M79       MQ_H5-Weekday         MQ_H5-Weekday-125100_M79_20   \n",
       "132639      M23        MQ_A5-Sunday          MQ_A5-Sunday-079900_M23_15   \n",
       "116424     M103      OH_A5-Saturday      OH_A5-Saturday-108700_M101_102   \n",
       "66534      BX11       WF_H5-Weekday       WF_H5-Weekday-146000_BX35_235   \n",
       "109491      BX8        WF_A5-Sunday          WF_A5-Sunday-129000_BX8_20   \n",
       "175580      Q36       QV_A5-Weekday          QV_A5-Weekday-104500_Q36_5   \n",
       "150243      M79       MQ_A5-Weekday         MQ_A5-Weekday-127000_M79_18   \n",
       "198611      Q85  JA_A5-Weekday-SDon  JA_A5-Weekday-SDon-120700_MISC_567   \n",
       "134690       M2       MV_J5-Weekday         MV_J5-Weekday-142000_M2_143   \n",
       "\n",
       "                                   trip_headsign  direction_id  shape_id  \n",
       "63235   BAY RDGE SHORE RD via AVENUE M via 60 ST             1    B90040  \n",
       "150771          WEST SIDE-RIVERSIDE DR CROSSTOWN             1   M790026  \n",
       "132639                EAST SIDE FDR DR CROSSTOWN             0   M230005  \n",
       "116424                      CITY HALL via LEX AV             1  M1030172  \n",
       "66534             WASHINGTON HEIGHTS  G W BRIDGE             1  BX110042  \n",
       "109491                            WESTCHESTER SQ             1  BX080082  \n",
       "175580                       JAMAICA 165 ST TERM             1   Q360148  \n",
       "150243           YORKVILLE EAST END AV CROSSTOWN             0   M790024  \n",
       "198611                     JAMAICA PRSNS - ARCHR             1   Q851148  \n",
       "134690                EAST VILLAGE 8 ST via 5 AV             1   M020171  "
      ]
     },
     "execution_count": 62,
     "metadata": {},
     "output_type": "execute_result"
    }
   ],
   "source": [
    "trips.sample(10)"
   ]
  }
 ],
 "metadata": {
  "kernelspec": {
   "display_name": "Python 2",
   "language": "python",
   "name": "python2"
  },
  "language_info": {
   "codemirror_mode": {
    "name": "ipython",
    "version": 2
   },
   "file_extension": ".py",
   "mimetype": "text/x-python",
   "name": "python",
   "nbconvert_exporter": "python",
   "pygments_lexer": "ipython2",
   "version": "2.7.12"
  }
 },
 "nbformat": 4,
 "nbformat_minor": 2
}
